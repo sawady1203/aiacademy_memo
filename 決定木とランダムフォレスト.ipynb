{
 "cells": [
  {
   "cell_type": "markdown",
   "metadata": {},
   "source": [
    "# 決定木"
   ]
  },
  {
   "cell_type": "markdown",
   "metadata": {},
   "source": [
    "## 決定木とは\n",
    "\n",
    "回帰などの線形モデルやSVMでは、そのモデルがどのように分類されたかわからない分類過程がブラックボックスの手法でした。\n",
    "\n",
    "しかし、ときには分類過程を知ることが必要になります。\n",
    "\n",
    "例えば、メールがスパムメールかそうでないかを分類する例を考えると\n",
    "\n",
    "今までの学習手法だとどの単語によってスパムメールと判断されたかがわかりません。\n",
    "\n",
    "なので、スパムメールに含まれる単語を見つけるには分類過程を知る必要があります。\n",
    "\n",
    "今回学習する決定木の一番の特徴は、分類過程が明瞭ということです。\n",
    "\n",
    "決定木はとても単純な手法ですが、非常に効果的な教師あり学習手法です。\n",
    "\n",
    "決定木の簡単な例を示します。"
   ]
  },
  {
   "cell_type": "markdown",
   "metadata": {},
   "source": [
    "最初に、そのメールの文書に「無料」という単語が含まれているかを問います。\n",
    "\n",
    "もし、含まれているならそのメールはスパムと分類されます。\n",
    "\n",
    "含まれていないなら、さらにそのメールは連絡先に入っている人から来たかという質問をします。\n",
    "\n",
    "それが、Yesならばスパムメールではない、Noならスパムメールと分類されます。\n",
    "\n",
    "このように決定木は人が理解するのに容易で、何がその分類を決定づけたかが分かります。"
   ]
  },
  {
   "cell_type": "code",
   "execution_count": 1,
   "metadata": {},
   "outputs": [
    {
     "name": "stdout",
     "output_type": "stream",
     "text": [
      "['row.names' 'pclass' 'survived' 'name' 'age' 'embarked' 'home.dest' 'room'\n",
      " 'ticket' 'boat' 'sex']\n",
      "['1' '1st' '1' 'Allen, Miss Elisabeth Walton' '29.0000' 'Southampton'\n",
      " 'St Louis, MO' 'B-5' '24160 L221' '2' 'female'] 1\n"
     ]
    }
   ],
   "source": [
    "#csvファイルを読み込む\n",
    "import csv\n",
    "import numpy as np\n",
    "\n",
    "with open('./titanic.csv', 'r') as csvfile:\n",
    "    titanic_reader  = csv.reader(csvfile, delimiter=',', quotechar='\"')\n",
    "    \n",
    "    #特徴量の名前が書かれたheaderを読み込む\n",
    "    row = next(titanic_reader)\n",
    "    feature_names = np.array(row)\n",
    "    \n",
    "    #データと正解ラベルを読み取る\n",
    "    titanic_x, titanic_y = [], []\n",
    "    for row in titanic_reader:\n",
    "        titanic_x.append(row)\n",
    "        titanic_y.append(row[2]) #正解ラベルがあるのは3列目の”survived”\n",
    "     \n",
    "    #型をリストからnumpy.ndarrayにする\n",
    "    titanic_x = np.array(titanic_x)\n",
    "    titanic_y = np.array(titanic_y)\n",
    "\n",
    "print(feature_names)\n",
    "print(titanic_x[0], titanic_y[0])"
   ]
  },
  {
   "cell_type": "markdown",
   "metadata": {},
   "source": [
    "## 前処理\n",
    "<p>最初に使う特徴量を選択する</p>\n",
    "\n",
    "前処理とは生データを数値で表した特徴量にすること。\n",
    "\n",
    "テキストデータは役に立たないので意味のある数値に変換できて\n",
    "始めてクラスタリング等の機械学習アルゴリズムに入力することができる\n",
    "\n",
    "特徴量→説明変数\n",
    "\n",
    "今回は特徴量として「クラス」「年齢」「性別」を使用する。"
   ]
  },
  {
   "cell_type": "code",
   "execution_count": 2,
   "metadata": {},
   "outputs": [
    {
     "name": "stdout",
     "output_type": "stream",
     "text": [
      "['pclass' 'age' 'sex']\n",
      "[['1st' '29.0000' 'female']\n",
      " ['1st' ' 2.0000' 'female']\n",
      " ['1st' '30.0000' 'male']\n",
      " ..., \n",
      " ['3rd' 'NA' 'male']\n",
      " ['3rd' 'NA' 'female']\n",
      " ['3rd' 'NA' 'male']]\n"
     ]
    }
   ],
   "source": [
    "#pclass(1), age(4), sex(10)を残して、あとは消す\n",
    "titanic_x = titanic_x[:, [1, 4, 10]]\n",
    "feature_names = feature_names[[1, 4, 10]]\n",
    "\n",
    "print(feature_names)\n",
    "print(titanic_x)"
   ]
  },
  {
   "cell_type": "markdown",
   "metadata": {},
   "source": [
    "## 欠損値の補完\n",
    "出力した13番目のデータを見ると、ageが'NA'となっています。\n",
    "\n",
    "これはデータがNot Available、すなわち存在しないということを表しており欠損値と呼ばれます。\n",
    "\n",
    "欠損値があると学習できないため(scikit-learnでモデルを作れないため)、今回は欠損値を年齢の平均値に置き換えます。\n",
    "\n",
    "（欠損値を埋めるために最頻値や中央値を用いることもあります）"
   ]
  },
  {
   "cell_type": "code",
   "execution_count": 3,
   "metadata": {},
   "outputs": [
    {
     "data": {
      "text/plain": [
       "array([['1st', '29.0000', 'female'],\n",
       "       ['1st', ' 2.0000', 'female'],\n",
       "       ['1st', '30.0000', 'male'],\n",
       "       ..., \n",
       "       ['3rd', '31.19418104265403', 'male'],\n",
       "       ['3rd', '31.19418104265403', 'female'],\n",
       "       ['3rd', '31.19418104265403', 'male']],\n",
       "      dtype='<U62')"
      ]
     },
     "execution_count": 3,
     "metadata": {},
     "output_type": "execute_result"
    }
   ],
   "source": [
    "# 年齢の欠損値を平均値で埋める\n",
    "ages = titanic_x[:,1]\n",
    "# NA以外のageの平均値を計算する\n",
    "mean_age = np.mean(titanic_x[ages != 'NA', 1].astype(float))\n",
    "# ageがNAのものを平均値に置き換える\n",
    "titanic_x[titanic_x[:,1]=='NA', 1] = mean_age\n",
    "titanic_x"
   ]
  },
  {
   "cell_type": "markdown",
   "metadata": {},
   "source": [
    "## Label Encoder\n",
    "\n",
    "また、出力した13番目のデータのsexは'female'と文字列となっています。\n",
    "\n",
    "文字列のデータのことをカテゴリカルデータといいます。\n",
    "\n",
    "学習するためには、文字列を数値に修正する必要があります。\n",
    "\n",
    "そこで、LabelEncoder()を使って数値に直します。\n",
    "\n",
    "数値に直すというのは、\n",
    "\n",
    "'female' → 0\n",
    "\n",
    "'male' → 1\n",
    "\n",
    "にするということです。"
   ]
  },
  {
   "cell_type": "code",
   "execution_count": 4,
   "metadata": {},
   "outputs": [
    {
     "name": "stdout",
     "output_type": "stream",
     "text": [
      "Categorical classes: ['female' 'male']\n"
     ]
    }
   ],
   "source": [
    "from sklearn.preprocessing import LabelEncoder\n",
    "enc = LabelEncoder()\n",
    "label_encoder = enc.fit(titanic_x[:, 2])\n",
    "print('Categorical classes:' , label_encoder.classes_)"
   ]
  },
  {
   "cell_type": "code",
   "execution_count": 5,
   "metadata": {},
   "outputs": [
    {
     "name": "stdout",
     "output_type": "stream",
     "text": [
      "Integer classes: [0 1]\n"
     ]
    }
   ],
   "source": [
    "integer_classes = label_encoder.transform(label_encoder.classes_)\n",
    "print('Integer classes:', integer_classes)"
   ]
  },
  {
   "cell_type": "code",
   "execution_count": 6,
   "metadata": {},
   "outputs": [
    {
     "name": "stdout",
     "output_type": "stream",
     "text": [
      "['pclass' 'age' 'sex']\n",
      "['1st' '31.19418104265403' '0'] 1\n"
     ]
    }
   ],
   "source": [
    "t = label_encoder.transform(titanic_x[:,2])\n",
    "titanic_x[:,2] = t\n",
    "\n",
    "print(feature_names)\n",
    "print(titanic_x[12], titanic_y[12])"
   ]
  },
  {
   "cell_type": "markdown",
   "metadata": {},
   "source": [
    "実行すると、\n",
    "\n",
    "['pclass' 'age' 'sex']\n",
    "\n",
    "['1st' '31.19418104265403' '0'] 1\n",
    "\n",
    "と出力され、'female'が0になっていることが分かります。\n"
   ]
  },
  {
   "cell_type": "markdown",
   "metadata": {},
   "source": [
    "## OneHotEncoder\n",
    "先程は、'sex'を0,1に変更しました。\n",
    "\n",
    "しかし、pclassもカテゴリカルデータなので数値に修正する必要があります。\n",
    "\n",
    "ただし、ageと同様の手法で\n",
    "\n",
    "1st →　0\n",
    "\n",
    "2nd →　1\n",
    "\n",
    "3rd →　2\n",
    "\n",
    "としてはいけません。\n",
    "\n",
    "なぜなら、カテゴリカルデータでは順序性がなく1st < 2nd < 3rdという関係が成り立たないからです。\n",
    "\n",
    "これを、数値の1, 2, 3としてしまうと1 < 2 < 3という関係になってしまいおかしくなっています。\n",
    "\n",
    "そこで、**OneHotEncoder**という手法を用います。\n",
    "\n",
    "これは、それぞれのデータに対し当てはまれば「１」当てはまなければ「０」とするものです。\n",
    "\n",
    "pclassに対し、OneHotEncoderを行ってみる"
   ]
  },
  {
   "cell_type": "code",
   "execution_count": 7,
   "metadata": {},
   "outputs": [
    {
     "name": "stdout",
     "output_type": "stream",
     "text": [
      "Categorical classes: ['1st' '2nd' '3rd']\n"
     ]
    }
   ],
   "source": [
    "from sklearn.preprocessing import OneHotEncoder\n",
    "enc = LabelEncoder()\n",
    "label_encoder = enc.fit(titanic_x[:, 0])\n",
    "print(\"Categorical classes:\", label_encoder.classes_)"
   ]
  },
  {
   "cell_type": "code",
   "execution_count": 8,
   "metadata": {},
   "outputs": [
    {
     "name": "stdout",
     "output_type": "stream",
     "text": [
      "Integrer classes: [[0]\n",
      " [1]\n",
      " [2]]\n"
     ]
    }
   ],
   "source": [
    "integer_classes = label_encoder.transform(label_encoder.classes_).reshape(3,1)\n",
    "print('Integrer classes:', integer_classes)"
   ]
  },
  {
   "cell_type": "code",
   "execution_count": 9,
   "metadata": {},
   "outputs": [
    {
     "data": {
      "text/plain": [
       "1313"
      ]
     },
     "execution_count": 9,
     "metadata": {},
     "output_type": "execute_result"
    }
   ],
   "source": [
    "enc = OneHotEncoder()\n",
    "one_hot_encoder = enc.fit(integer_classes)\n",
    "\n",
    "# 最初に、Label Encoderを使ってpclassを0-2に直す\n",
    "num_of_rows = titanic_x.shape[0]\n",
    "num_of_rows"
   ]
  },
  {
   "cell_type": "code",
   "execution_count": 10,
   "metadata": {},
   "outputs": [
    {
     "data": {
      "text/plain": [
       "array([[0],\n",
       "       [0],\n",
       "       [0],\n",
       "       ..., \n",
       "       [2],\n",
       "       [2],\n",
       "       [2]], dtype=int64)"
      ]
     },
     "execution_count": 10,
     "metadata": {},
     "output_type": "execute_result"
    }
   ],
   "source": [
    "t = label_encoder.transform(titanic_x[:,0]).reshape(num_of_rows, 1)\n",
    "t"
   ]
  },
  {
   "cell_type": "code",
   "execution_count": 11,
   "metadata": {},
   "outputs": [
    {
     "data": {
      "text/plain": [
       "(1313, 3)"
      ]
     },
     "execution_count": 11,
     "metadata": {},
     "output_type": "execute_result"
    }
   ],
   "source": [
    "# 次に、OneHotEncoderをつかってデータを1，0に変換\n",
    "new_features = one_hot_encoder.transform(t)\n",
    "new_features.shape"
   ]
  },
  {
   "cell_type": "code",
   "execution_count": 12,
   "metadata": {},
   "outputs": [
    {
     "data": {
      "text/plain": [
       "array([['1st', '29.0000', '0', '1.0', '0.0', '0.0'],\n",
       "       ['1st', ' 2.0000', '0', '1.0', '0.0', '0.0'],\n",
       "       ['1st', '30.0000', '1', '1.0', '0.0', '0.0'],\n",
       "       ..., \n",
       "       ['3rd', '31.19418104265403', '1', '0.0', '0.0', '1.0'],\n",
       "       ['3rd', '31.19418104265403', '0', '0.0', '0.0', '1.0'],\n",
       "       ['3rd', '31.19418104265403', '1', '0.0', '0.0', '1.0']],\n",
       "      dtype='<U62')"
      ]
     },
     "execution_count": 12,
     "metadata": {},
     "output_type": "execute_result"
    }
   ],
   "source": [
    "#1,0になおしてデータを統合する\n",
    "titanic_x = np.concatenate([titanic_x, new_features.toarray()], axis = 1)\n",
    "titanic_x"
   ]
  },
  {
   "cell_type": "code",
   "execution_count": 13,
   "metadata": {},
   "outputs": [
    {
     "data": {
      "text/plain": [
       "array([['29.0000', '0', '1.0', '0.0', '0.0'],\n",
       "       [' 2.0000', '0', '1.0', '0.0', '0.0'],\n",
       "       ['30.0000', '1', '1.0', '0.0', '0.0'],\n",
       "       ..., \n",
       "       ['31.19418104265403', '1', '0.0', '0.0', '1.0'],\n",
       "       ['31.19418104265403', '0', '0.0', '0.0', '1.0'],\n",
       "       ['31.19418104265403', '1', '0.0', '0.0', '1.0']],\n",
       "      dtype='<U62')"
      ]
     },
     "execution_count": 13,
     "metadata": {},
     "output_type": "execute_result"
    }
   ],
   "source": [
    "#one_hot_ encoderをする前のpclassのデータを削除する\n",
    "titanic_x = np.delete(titanic_x, [0], 1)\n",
    "titanic_x"
   ]
  },
  {
   "cell_type": "code",
   "execution_count": 14,
   "metadata": {},
   "outputs": [
    {
     "name": "stdout",
     "output_type": "stream",
     "text": [
      "['age', 'sex', 'first class', 'second class', 'third class']\n",
      "[ 29.   0.   1.   0.   0.] 1.0\n"
     ]
    }
   ],
   "source": [
    "#特徴量の名前を更新する\n",
    "feature_names = ['age','sex','first class','second class','third class']\n",
    "\n",
    "#Conver to numerical values\n",
    "titanic_x = titanic_x.astype(float)\n",
    "titanic_y = titanic_y.astype(float)\n",
    "\n",
    "print(feature_names)\n",
    "print(titanic_x[0], titanic_y[0])"
   ]
  },
  {
   "cell_type": "markdown",
   "metadata": {},
   "source": [
    "これで学習する準備終わった。前処理終了"
   ]
  },
  {
   "cell_type": "markdown",
   "metadata": {},
   "source": [
    "## 学習\n",
    "学習データとテストデータに分ける\n",
    "その後、scikit-learnのDecision Tree Classifierを使って学習する"
   ]
  },
  {
   "cell_type": "code",
   "execution_count": 15,
   "metadata": {},
   "outputs": [
    {
     "name": "stderr",
     "output_type": "stream",
     "text": [
      "C:\\Users\\masayoshi\\Anaconda3\\lib\\site-packages\\sklearn\\cross_validation.py:41: DeprecationWarning: This module was deprecated in version 0.18 in favor of the model_selection module into which all the refactored classes and functions are moved. Also note that the interface of the new CV iterators are different from that of this module. This module will be removed in 0.20.\n",
      "  \"This module will be removed in 0.20.\", DeprecationWarning)\n"
     ]
    },
    {
     "data": {
      "text/plain": [
       "'\\ncriterion : 分類基準(entropy と\\u3000giniがある)\\nmax_depth : 木の深さ\\nmin_samples_split : 分割するときに必要なデータ数\\n'"
      ]
     },
     "execution_count": 15,
     "metadata": {},
     "output_type": "execute_result"
    }
   ],
   "source": [
    "from sklearn.cross_validation import train_test_split\n",
    "X_train, x_test, y_train, y_test = train_test_split(titanic_x, titanic_y, test_size=0.25, random_state=33)\n",
    "\n",
    "# scikit_learnのDecision Tree Classifierを使って学習する\n",
    "\n",
    "from sklearn import tree\n",
    "clf = tree.DecisionTreeClassifier(criterion='entropy', max_depth=3, min_samples_leaf = 5)\n",
    "clf = clf.fit(X_train, y_train)\n",
    "\n",
    "#今回はパラメータとしてcriterion, max_depth, min_samples_leafを指定する\n",
    "\"\"\"\n",
    "criterion : 分類基準(entropy と　giniがある)\n",
    "max_depth : 木の深さ\n",
    "min_samples_split : 分割するときに必要なデータ数\n",
    "\"\"\""
   ]
  },
  {
   "cell_type": "markdown",
   "metadata": {},
   "source": [
    "これ以外のパラメータを設定したいとき、scikit-learnのHPを参考にしてみましょう。 \n",
    "\n",
    "これで学習ができました。\n",
    "\n",
    "では、学習した結果を可視化してみましょう。\n",
    "\n",
    "決定木を可視化するには、***Graphviz***と***pydotplus***が必要になります。\n",
    "\n",
    "ターミナル（コマンドプロンプト）からinstallしましょう。\n",
    "\n",
    "pip install Graphviz\n",
    "\n",
    "pip install pydotplus\n",
    "\n",
    "*できない場合はこちらからinstallしてください。\n",
    "\n",
    "またInvocationException: GraphViz's executables not foundというエラーで可視化ができない場合は、\n",
    "\n",
    "brew install graphviz\n",
    "pip install -U pydotplus \n",
    "\n",
    "としてください。\n",
    "ダウンロードサイト1\n",
    "ダウンロードサイト2\n",
    "\n",
    "※上記の方法かつWindowsで出来ない場合は、ネットの情報を参考にしてみてください。\n",
    "\n",
    "そして、以下のプログラムを入力すると木が出力されます。"
   ]
  },
  {
   "cell_type": "code",
   "execution_count": 18,
   "metadata": {},
   "outputs": [
    {
     "data": {
      "image/png": "[encoded data removed]",
      "text/plain": [
       "<IPython.core.display.Image object>"
      ]
     },
     "execution_count": 18,
     "metadata": {},
     "output_type": "execute_result"
    }
   ],
   "source": [
    "import pydotplus\n",
    "from sklearn.externals.six import StringIO\n",
    "from IPython.display import Image\n",
    "dot_data = StringIO()\n",
    "tree.export_graphviz(clf, out_file=dot_data,feature_names = ['age','Sex','1st_c1ass','2nd_class','3rd_class'])\n",
    "graph = pydotplus.graph_from_dot_data(dot_data.getvalue())\n",
    "graph.write_png(\"tree.png\")\n",
    "Image(graph.create_png())"
   ]
  },
  {
   "cell_type": "code",
   "execution_count": 20,
   "metadata": {},
   "outputs": [
    {
     "ename": "NameError",
     "evalue": "name 'measure_performance' is not defined",
     "output_type": "error",
     "traceback": [
      "\u001b[1;31m---------------------------------------------------------------------------\u001b[0m",
      "\u001b[1;31mNameError\u001b[0m                                 Traceback (most recent call last)",
      "\u001b[1;32m<ipython-input-20-7798eebb21ed>\u001b[0m in \u001b[0;36m<module>\u001b[1;34m()\u001b[0m\n\u001b[1;32m----> 1\u001b[1;33m \u001b[0mmeasure_performance\u001b[0m\u001b[1;33m(\u001b[0m\u001b[0mx_train\u001b[0m\u001b[1;33m,\u001b[0m \u001b[0my_train\u001b[0m\u001b[1;33m,\u001b[0m \u001b[0mclf\u001b[0m\u001b[1;33m)\u001b[0m\u001b[1;33m\u001b[0m\u001b[0m\n\u001b[0m",
      "\u001b[1;31mNameError\u001b[0m: name 'measure_performance' is not defined"
     ]
    }
   ],
   "source": [
    "measure_performance(x_train, y_train, clf)"
   ]
  },
  {
   "cell_type": "markdown",
   "metadata": {
    "collapsed": true
   },
   "source": [
    "この木は、学習データによる学習結果を表しています。\n",
    "\n",
    "質問を答えることによって、分類がされます。\n",
    "\n",
    "例えば、一番上の部分では\n",
    "\n",
    "sex <= 0.5か？ということを聞いています。\n",
    "\n",
    "（sexは'woman'か？）\n",
    "\n",
    "このとき、答えがyesなら左へ、Noなら右へ進みます。\n",
    "\n",
    "進んだ先の質問にも答え、同様にyesなら左へ,Noなら右に行きます。\n",
    "\n",
    "これを最下段まで繰り返し、最下段と多数のほうの正解ラベルがふられます。\n",
    "\n",
    "sex <= 0.5 （sexは'woman'か）　→　yes\n",
    "\n",
    "3rd_class <= 0.5 (3rd_classではない）　→　yes\n",
    "\n",
    "1st_class <= 0.5 (1st_classではない）　→　yes\n",
    "\n",
    "と進んだとき、最後はValue = [8, 70]となっており、生き延びた人のほうが多い\n",
    "です。\n",
    "\n",
    "なので、性別が女性で、2nd classにいた人は生き延びたと分類されます。\n",
    "\n",
    "では、first classにいた10才の女の子はどちらに分類されるか自分で考えてみましょう。\n",
    "\n",
    "答えは、”生き延びた”です。\n",
    "\n",
    "では、最後に精度を確認してみましょう。\n",
    "\n",
    "measure_performance(x_train, y_train, clf)\n",
    "\n",
    "実行すると、\n",
    "\n",
    "Accuracy:0.838 \n",
    "Classification report\n",
    "precision recall f1-score support\n",
    "0.0 0.82 0.98 0.89 662\n",
    "1.0 0.93 0.55 0.69 322\n",
    "avg / total 0.85 0.84 0.82 984\n",
    "Confussion matrix\n",
    "\n",
    "[[649 13]\n",
    "[146 176]] \n",
    "と出力され良い分類ができていることが分かります。"
   ]
  },
  {
   "cell_type": "markdown",
   "metadata": {},
   "source": [
    "# 今回作成したプログラム"
   ]
  },
  {
   "cell_type": "code",
   "execution_count": 21,
   "metadata": {},
   "outputs": [
    {
     "name": "stdout",
     "output_type": "stream",
     "text": [
      "['row.names' 'pclass' 'survived' 'name' 'age' 'embarked' 'home.dest' 'room'\n",
      " 'ticket' 'boat' 'sex']\n",
      "['1' '1st' '1' 'Allen, Miss Elisabeth Walton' '29.0000' 'Southampton'\n",
      " 'St Louis, MO' 'B-5' '24160 L221' '2' 'female'] 1\n",
      "['pclass' 'age' 'sex']\n",
      "['1st' 'NA' 'female'] 1\n",
      "Cateorical classes: ['female' 'male']\n",
      "Integer classes: [0 1]\n",
      "['pclass' 'age' 'sex']\n",
      "['1st' '31.19418104265403' '0'] 1\n",
      "Categorical classes: ['1st' '2nd' '3rd']\n",
      "Integer classes: [[0]\n",
      " [1]\n",
      " [2]]\n",
      "['age', 'sex', 'first class', 'second class', 'third class']\n",
      "[ 29.   0.   1.   0.   0.] 1.0\n",
      "Accuracy:0.838 \n",
      "\n",
      "Classification report\n",
      "             precision    recall  f1-score   support\n",
      "\n",
      "        0.0       0.82      0.98      0.89       662\n",
      "        1.0       0.93      0.55      0.69       322\n",
      "\n",
      "avg / total       0.85      0.84      0.82       984\n",
      " \n",
      "\n",
      "Confussion matrix\n",
      "[[649  13]\n",
      " [146 176]] \n",
      "\n"
     ]
    }
   ],
   "source": [
    "import csv\n",
    "import numpy as np\n",
    "\n",
    "with open('./titanic.csv','r') as csvfile:\n",
    "    titanic_reader = csv.reader(csvfile,delimiter=',',quotechar='\"')\n",
    "\n",
    "    #特徴量の名前が書かれたHeaderを読み取る\n",
    "    row = next(titanic_reader)\n",
    "    feature_names = np.array(row)\n",
    "\n",
    "    #データと正解ラベルを読み取る\n",
    "    titanic_x, titanic_y = [],[]\n",
    "    for row in titanic_reader:\n",
    "        titanic_x.append(row)\n",
    "        titanic_y.append(row[2]) #正解ラベルは3列目の\"survived\"\n",
    "\n",
    "    titanic_x = np.array(titanic_x) #型をリストからnumpy.ndarrayにする\n",
    "    titanic_y = np.array(titanic_y) #型をリストからnumpy.ndarrayにする\n",
    "\n",
    "print(feature_names)\n",
    "print(titanic_x[0],titanic_y[0])\n",
    "\n",
    "\n",
    "#class(1),age(4),sex(10)を残す\n",
    "titanic_x = titanic_x[:,[1, 4, 10]]\n",
    "feature_names = feature_names[[1, 4, 10]]\n",
    "\n",
    "print(feature_names)\n",
    "print(titanic_x[12],titanic_y[12])\n",
    "\n",
    "\n",
    "#年齢の欠損値を平均値で埋める\n",
    "ages = titanic_x[:,1]\n",
    "#NA以外のageの平均値を計算する\n",
    "mean_age = np.mean(titanic_x[ages != 'NA',1].astype(float))\n",
    "#ageがNAのものを平均値に置き換える\n",
    "titanic_x[titanic_x[:, 1] == 'NA',1] =mean_age\n",
    "\n",
    "\n",
    "from sklearn.preprocessing import LabelEncoder\n",
    "enc = LabelEncoder()\n",
    "label_encoder = enc.fit(titanic_x[:, 2])\n",
    "print('Cateorical classes:',label_encoder.classes_)\n",
    "\n",
    "integer_classes = label_encoder.transform(label_encoder.classes_)\n",
    "print('Integer classes:',integer_classes)\n",
    "\n",
    "t = label_encoder.transform(titanic_x[:, 2])\n",
    "titanic_x[:,2] = t\n",
    "\n",
    "print(feature_names)\n",
    "print(titanic_x[12],titanic_y[12])\n",
    "\n",
    "\n",
    "from sklearn.preprocessing import OneHotEncoder\n",
    "enc = LabelEncoder()\n",
    "label_encoder = enc.fit(titanic_x [:, 0])\n",
    "print(\"Categorical classes:\", label_encoder.classes_)\n",
    "integer_classes = label_encoder.transform(label_encoder.classes_).reshape(3, 1)\n",
    "print(\"Integer classes:\", integer_classes)\n",
    "enc = OneHotEncoder()\n",
    "one_hot_encoder = enc.fit(integer_classes)\n",
    "\n",
    "#最初に、Label Encoderを使ってpclassを0-2に直す\n",
    "num_of_rows = titanic_x.shape[0]\n",
    "t = label_encoder.transform(titanic_x[:, 0]).reshape(num_of_rows, 1)\n",
    "#次に、OneHotEncoderを使ってデータを1, 0に変換\n",
    "new_features = one_hot_encoder.transform(t)\n",
    "#1,0になおしてデータを統合する\n",
    "titanic_x = np.concatenate([titanic_x, new_features.toarray()], axis = 1)\n",
    "#OnehotEncoderをする前のpclassのデータを削除する\n",
    "titanic_x = np.delete(titanic_x, [0], 1)\n",
    "#特徴量の名前を更新する\n",
    "feature_names = ['age', 'sex', 'first class', 'second class', 'third class']\n",
    "\n",
    "# Convert to numerical values\n",
    "titanic_x = titanic_x.astype (float)\n",
    "titanic_y = titanic_y.astype (float)\n",
    "\n",
    "print(feature_names)\n",
    "print(titanic_x[0],titanic_y[0])\n",
    "\n",
    "from sklearn.cross_validation import train_test_split\n",
    "x_train, x_test, y_train, y_test = train_test_split(titanic_x, titanic_y, test_size=0.25, random_state=33)\n",
    "\n",
    "\n",
    "from sklearn import metrics\n",
    "def measure_performance(x,y,clf, show_accuracy=True,show_classification_report=True, show_confussion_matrix=True):\n",
    "    y_pred=clf.predict(x)\n",
    "    if show_accuracy:\n",
    "        print(\"Accuracy:{0:.3f}\".format(metrics.accuracy_score(y, y_pred)), \"\\n\")\n",
    "\n",
    "    if show_classification_report:\n",
    "        print(\"Classification report\")\n",
    "        print(metrics.classification_report(y, y_pred), \"\\n\")\n",
    "\n",
    "    if show_confussion_matrix:\n",
    "        print(\"Confussion matrix\")\n",
    "        print(metrics.confusion_matrix(y, y_pred),\"\\n\")\n",
    "\n",
    "from sklearn import tree\n",
    "clf = tree.DecisionTreeClassifier(criterion='entropy', max_depth= 3, min_samples_leaf = 5)\n",
    "clf = clf.fit(x_train, y_train)\n",
    "\n",
    "import pydotplus\n",
    "from sklearn.externals.six import StringIO\n",
    "dot_data = StringIO()\n",
    "tree.export_graphviz(clf, out_file=dot_data,feature_names = ['age','Sex','1st_c1ass','2nd_class','3rd_class'])\n",
    "graph = pydotplus.graph_from_dot_data(dot_data.getvalue())\n",
    "graph.write_pdf(\"tree.pdf\")\n",
    "\n",
    "#決定木モデルの評価\n",
    "measure_performance(x_train, y_train, clf)\n"
   ]
  },
  {
   "cell_type": "markdown",
   "metadata": {},
   "source": [
    "決定木モデルの評価に関してmeasure_performance(x_train, y_train, clf)とありますが、testに対してではなくtrainで行っています。\n",
    "\n",
    "一般的に汎化性能は学習に使用したデータとは独立なもので図るべきですが、しっかりと学習できたか、ということを見るのにtrainでの性能も出すことがあります。\n",
    "\n",
    "trainだけで性能の評価はしません。\n",
    "\n",
    "testだけの場合もありますが、trainでちゃんと学習できている\n",
    "(これは汎化性能ではなく、少なくともtrainデータにはfitできている)\n",
    "ということを確認した上で、testで汎化性能を確認します。\n",
    "\n",
    "なお正確には交差判定やAIC, BIC, WAIC, SBIC等の情報量基準でのモデルの汎化性能を確認しますが、DNNのように計算コストが高いモデルの場合は、\n",
    "train, valid, testというふうに元のデータを分割し、\n",
    "validでの性能を確認しながらtrainによってモデルのパラメータチューニングを\n",
    "行なっていきます。"
   ]
  },
  {
   "cell_type": "markdown",
   "metadata": {},
   "source": [
    "# まとめ\n",
    "この章では、決定木を学習しました。\n",
    "決定木の最大の利点は分類過程が見れることです。\n",
    "今回は、タイタニックのデータを使って前処理と学習を行いました。"
   ]
  },
  {
   "cell_type": "markdown",
   "metadata": {},
   "source": [
    "# 演習問題\n",
    "１）iris（アヤメ）のデータを使って種類ごとに分類してください。\n",
    "\n",
    "＊データのdownload方法\n",
    "from sklearn import datasets\n",
    "iris = datasets.load_iris()\n",
    "x_iris, y_iris = iris.data, iris.target\n",
    "データの説明は下のサイトを参考にしてください。\n",
    "Iris\n",
    "\n",
    "２）作成した決定木を可視化してください。"
   ]
  },
  {
   "cell_type": "code",
   "execution_count": 2,
   "metadata": {},
   "outputs": [
    {
     "data": {
      "text/plain": [
       "array([[ 5.1,  3.5,  1.4,  0.2],\n",
       "       [ 4.9,  3. ,  1.4,  0.2],\n",
       "       [ 4.7,  3.2,  1.3,  0.2],\n",
       "       [ 4.6,  3.1,  1.5,  0.2],\n",
       "       [ 5. ,  3.6,  1.4,  0.2],\n",
       "       [ 5.4,  3.9,  1.7,  0.4],\n",
       "       [ 4.6,  3.4,  1.4,  0.3],\n",
       "       [ 5. ,  3.4,  1.5,  0.2],\n",
       "       [ 4.4,  2.9,  1.4,  0.2],\n",
       "       [ 4.9,  3.1,  1.5,  0.1],\n",
       "       [ 5.4,  3.7,  1.5,  0.2],\n",
       "       [ 4.8,  3.4,  1.6,  0.2],\n",
       "       [ 4.8,  3. ,  1.4,  0.1],\n",
       "       [ 4.3,  3. ,  1.1,  0.1],\n",
       "       [ 5.8,  4. ,  1.2,  0.2],\n",
       "       [ 5.7,  4.4,  1.5,  0.4],\n",
       "       [ 5.4,  3.9,  1.3,  0.4],\n",
       "       [ 5.1,  3.5,  1.4,  0.3],\n",
       "       [ 5.7,  3.8,  1.7,  0.3],\n",
       "       [ 5.1,  3.8,  1.5,  0.3],\n",
       "       [ 5.4,  3.4,  1.7,  0.2],\n",
       "       [ 5.1,  3.7,  1.5,  0.4],\n",
       "       [ 4.6,  3.6,  1. ,  0.2],\n",
       "       [ 5.1,  3.3,  1.7,  0.5],\n",
       "       [ 4.8,  3.4,  1.9,  0.2],\n",
       "       [ 5. ,  3. ,  1.6,  0.2],\n",
       "       [ 5. ,  3.4,  1.6,  0.4],\n",
       "       [ 5.2,  3.5,  1.5,  0.2],\n",
       "       [ 5.2,  3.4,  1.4,  0.2],\n",
       "       [ 4.7,  3.2,  1.6,  0.2],\n",
       "       [ 4.8,  3.1,  1.6,  0.2],\n",
       "       [ 5.4,  3.4,  1.5,  0.4],\n",
       "       [ 5.2,  4.1,  1.5,  0.1],\n",
       "       [ 5.5,  4.2,  1.4,  0.2],\n",
       "       [ 4.9,  3.1,  1.5,  0.1],\n",
       "       [ 5. ,  3.2,  1.2,  0.2],\n",
       "       [ 5.5,  3.5,  1.3,  0.2],\n",
       "       [ 4.9,  3.1,  1.5,  0.1],\n",
       "       [ 4.4,  3. ,  1.3,  0.2],\n",
       "       [ 5.1,  3.4,  1.5,  0.2],\n",
       "       [ 5. ,  3.5,  1.3,  0.3],\n",
       "       [ 4.5,  2.3,  1.3,  0.3],\n",
       "       [ 4.4,  3.2,  1.3,  0.2],\n",
       "       [ 5. ,  3.5,  1.6,  0.6],\n",
       "       [ 5.1,  3.8,  1.9,  0.4],\n",
       "       [ 4.8,  3. ,  1.4,  0.3],\n",
       "       [ 5.1,  3.8,  1.6,  0.2],\n",
       "       [ 4.6,  3.2,  1.4,  0.2],\n",
       "       [ 5.3,  3.7,  1.5,  0.2],\n",
       "       [ 5. ,  3.3,  1.4,  0.2],\n",
       "       [ 7. ,  3.2,  4.7,  1.4],\n",
       "       [ 6.4,  3.2,  4.5,  1.5],\n",
       "       [ 6.9,  3.1,  4.9,  1.5],\n",
       "       [ 5.5,  2.3,  4. ,  1.3],\n",
       "       [ 6.5,  2.8,  4.6,  1.5],\n",
       "       [ 5.7,  2.8,  4.5,  1.3],\n",
       "       [ 6.3,  3.3,  4.7,  1.6],\n",
       "       [ 4.9,  2.4,  3.3,  1. ],\n",
       "       [ 6.6,  2.9,  4.6,  1.3],\n",
       "       [ 5.2,  2.7,  3.9,  1.4],\n",
       "       [ 5. ,  2. ,  3.5,  1. ],\n",
       "       [ 5.9,  3. ,  4.2,  1.5],\n",
       "       [ 6. ,  2.2,  4. ,  1. ],\n",
       "       [ 6.1,  2.9,  4.7,  1.4],\n",
       "       [ 5.6,  2.9,  3.6,  1.3],\n",
       "       [ 6.7,  3.1,  4.4,  1.4],\n",
       "       [ 5.6,  3. ,  4.5,  1.5],\n",
       "       [ 5.8,  2.7,  4.1,  1. ],\n",
       "       [ 6.2,  2.2,  4.5,  1.5],\n",
       "       [ 5.6,  2.5,  3.9,  1.1],\n",
       "       [ 5.9,  3.2,  4.8,  1.8],\n",
       "       [ 6.1,  2.8,  4. ,  1.3],\n",
       "       [ 6.3,  2.5,  4.9,  1.5],\n",
       "       [ 6.1,  2.8,  4.7,  1.2],\n",
       "       [ 6.4,  2.9,  4.3,  1.3],\n",
       "       [ 6.6,  3. ,  4.4,  1.4],\n",
       "       [ 6.8,  2.8,  4.8,  1.4],\n",
       "       [ 6.7,  3. ,  5. ,  1.7],\n",
       "       [ 6. ,  2.9,  4.5,  1.5],\n",
       "       [ 5.7,  2.6,  3.5,  1. ],\n",
       "       [ 5.5,  2.4,  3.8,  1.1],\n",
       "       [ 5.5,  2.4,  3.7,  1. ],\n",
       "       [ 5.8,  2.7,  3.9,  1.2],\n",
       "       [ 6. ,  2.7,  5.1,  1.6],\n",
       "       [ 5.4,  3. ,  4.5,  1.5],\n",
       "       [ 6. ,  3.4,  4.5,  1.6],\n",
       "       [ 6.7,  3.1,  4.7,  1.5],\n",
       "       [ 6.3,  2.3,  4.4,  1.3],\n",
       "       [ 5.6,  3. ,  4.1,  1.3],\n",
       "       [ 5.5,  2.5,  4. ,  1.3],\n",
       "       [ 5.5,  2.6,  4.4,  1.2],\n",
       "       [ 6.1,  3. ,  4.6,  1.4],\n",
       "       [ 5.8,  2.6,  4. ,  1.2],\n",
       "       [ 5. ,  2.3,  3.3,  1. ],\n",
       "       [ 5.6,  2.7,  4.2,  1.3],\n",
       "       [ 5.7,  3. ,  4.2,  1.2],\n",
       "       [ 5.7,  2.9,  4.2,  1.3],\n",
       "       [ 6.2,  2.9,  4.3,  1.3],\n",
       "       [ 5.1,  2.5,  3. ,  1.1],\n",
       "       [ 5.7,  2.8,  4.1,  1.3],\n",
       "       [ 6.3,  3.3,  6. ,  2.5],\n",
       "       [ 5.8,  2.7,  5.1,  1.9],\n",
       "       [ 7.1,  3. ,  5.9,  2.1],\n",
       "       [ 6.3,  2.9,  5.6,  1.8],\n",
       "       [ 6.5,  3. ,  5.8,  2.2],\n",
       "       [ 7.6,  3. ,  6.6,  2.1],\n",
       "       [ 4.9,  2.5,  4.5,  1.7],\n",
       "       [ 7.3,  2.9,  6.3,  1.8],\n",
       "       [ 6.7,  2.5,  5.8,  1.8],\n",
       "       [ 7.2,  3.6,  6.1,  2.5],\n",
       "       [ 6.5,  3.2,  5.1,  2. ],\n",
       "       [ 6.4,  2.7,  5.3,  1.9],\n",
       "       [ 6.8,  3. ,  5.5,  2.1],\n",
       "       [ 5.7,  2.5,  5. ,  2. ],\n",
       "       [ 5.8,  2.8,  5.1,  2.4],\n",
       "       [ 6.4,  3.2,  5.3,  2.3],\n",
       "       [ 6.5,  3. ,  5.5,  1.8],\n",
       "       [ 7.7,  3.8,  6.7,  2.2],\n",
       "       [ 7.7,  2.6,  6.9,  2.3],\n",
       "       [ 6. ,  2.2,  5. ,  1.5],\n",
       "       [ 6.9,  3.2,  5.7,  2.3],\n",
       "       [ 5.6,  2.8,  4.9,  2. ],\n",
       "       [ 7.7,  2.8,  6.7,  2. ],\n",
       "       [ 6.3,  2.7,  4.9,  1.8],\n",
       "       [ 6.7,  3.3,  5.7,  2.1],\n",
       "       [ 7.2,  3.2,  6. ,  1.8],\n",
       "       [ 6.2,  2.8,  4.8,  1.8],\n",
       "       [ 6.1,  3. ,  4.9,  1.8],\n",
       "       [ 6.4,  2.8,  5.6,  2.1],\n",
       "       [ 7.2,  3. ,  5.8,  1.6],\n",
       "       [ 7.4,  2.8,  6.1,  1.9],\n",
       "       [ 7.9,  3.8,  6.4,  2. ],\n",
       "       [ 6.4,  2.8,  5.6,  2.2],\n",
       "       [ 6.3,  2.8,  5.1,  1.5],\n",
       "       [ 6.1,  2.6,  5.6,  1.4],\n",
       "       [ 7.7,  3. ,  6.1,  2.3],\n",
       "       [ 6.3,  3.4,  5.6,  2.4],\n",
       "       [ 6.4,  3.1,  5.5,  1.8],\n",
       "       [ 6. ,  3. ,  4.8,  1.8],\n",
       "       [ 6.9,  3.1,  5.4,  2.1],\n",
       "       [ 6.7,  3.1,  5.6,  2.4],\n",
       "       [ 6.9,  3.1,  5.1,  2.3],\n",
       "       [ 5.8,  2.7,  5.1,  1.9],\n",
       "       [ 6.8,  3.2,  5.9,  2.3],\n",
       "       [ 6.7,  3.3,  5.7,  2.5],\n",
       "       [ 6.7,  3. ,  5.2,  2.3],\n",
       "       [ 6.3,  2.5,  5. ,  1.9],\n",
       "       [ 6.5,  3. ,  5.2,  2. ],\n",
       "       [ 6.2,  3.4,  5.4,  2.3],\n",
       "       [ 5.9,  3. ,  5.1,  1.8]])"
      ]
     },
     "metadata": {},
     "output_type": "display_data"
    },
    {
     "data": {
      "text/plain": [
       "array([0, 0, 0, 0, 0, 0, 0, 0, 0, 0, 0, 0, 0, 0, 0, 0, 0, 0, 0, 0, 0, 0, 0,\n",
       "       0, 0, 0, 0, 0, 0, 0, 0, 0, 0, 0, 0, 0, 0, 0, 0, 0, 0, 0, 0, 0, 0, 0,\n",
       "       0, 0, 0, 0, 1, 1, 1, 1, 1, 1, 1, 1, 1, 1, 1, 1, 1, 1, 1, 1, 1, 1, 1,\n",
       "       1, 1, 1, 1, 1, 1, 1, 1, 1, 1, 1, 1, 1, 1, 1, 1, 1, 1, 1, 1, 1, 1, 1,\n",
       "       1, 1, 1, 1, 1, 1, 1, 1, 2, 2, 2, 2, 2, 2, 2, 2, 2, 2, 2, 2, 2, 2, 2,\n",
       "       2, 2, 2, 2, 2, 2, 2, 2, 2, 2, 2, 2, 2, 2, 2, 2, 2, 2, 2, 2, 2, 2, 2,\n",
       "       2, 2, 2, 2, 2, 2, 2, 2, 2, 2, 2, 2])"
      ]
     },
     "metadata": {},
     "output_type": "display_data"
    }
   ],
   "source": [
    "from sklearn import datasets\n",
    "iris = datasets.load_iris()\n",
    "x_iris, y_iris = iris.data, iris.target\n",
    "display(x_iris)\n",
    "display(y_iris)"
   ]
  },
  {
   "cell_type": "code",
   "execution_count": 9,
   "metadata": {},
   "outputs": [
    {
     "data": {
      "text/plain": [
       "['sepal length (cm)',\n",
       " 'sepal width (cm)',\n",
       " 'petal length (cm)',\n",
       " 'petal width (cm)']"
      ]
     },
     "execution_count": 9,
     "metadata": {},
     "output_type": "execute_result"
    }
   ],
   "source": [
    "import numpy as np\n",
    "feature_names = iris.feature_names\n",
    "feature_names"
   ]
  },
  {
   "cell_type": "code",
   "execution_count": 16,
   "metadata": {},
   "outputs": [
    {
     "name": "stdout",
     "output_type": "stream",
     "text": [
      "[ 5.1  3.5  1.4  0.2] 0\n"
     ]
    }
   ],
   "source": [
    "x_iris = np.array(x_iris)\n",
    "y_iris = np.array(y_iris)\n",
    "print(x_iris[0], y_iris[0])"
   ]
  },
  {
   "cell_type": "code",
   "execution_count": 20,
   "metadata": {},
   "outputs": [
    {
     "name": "stdout",
     "output_type": "stream",
     "text": [
      "(105, 4) (45, 4) (105,) (45,)\n"
     ]
    }
   ],
   "source": [
    "#学習データとテストデータに分ける\n",
    "from sklearn.model_selection import train_test_split\n",
    "x_train, x_test, y_train, y_test = train_test_split(x_iris, y_iris, test_size = 0.3, random_state=33)\n",
    "print(x_train.shape, x_test.shape, y_train.shape, y_test.shape)"
   ]
  },
  {
   "cell_type": "code",
   "execution_count": 22,
   "metadata": {
    "collapsed": true
   },
   "outputs": [],
   "source": [
    "#決定木で学習する\n",
    "from sklearn import tree\n",
    "clf = tree.DecisionTreeClassifier(criterion='entropy', max_depth=4, min_samples_leaf = 5)\n",
    "clf = clf.fit(x_train, y_train)"
   ]
  },
  {
   "cell_type": "code",
   "execution_count": 24,
   "metadata": {},
   "outputs": [
    {
     "data": {
      "image/png": "[encoded data removed]",
      "text/plain": [
       "<IPython.core.display.Image object>"
      ]
     },
     "execution_count": 24,
     "metadata": {},
     "output_type": "execute_result"
    }
   ],
   "source": [
    "import pydotplus\n",
    "from sklearn.externals.six import StringIO\n",
    "from IPython.display import Image\n",
    "dot_data = StringIO()\n",
    "tree.export_graphviz(clf, out_file = dot_data, feature_names = feature_names)\n",
    "graph = pydotplus.graph_from_dot_data(dot_data.getvalue())\n",
    "graph.write_png(\"tree.png\")\n",
    "Image(graph.create_png())"
   ]
  },
  {
   "cell_type": "code",
   "execution_count": 27,
   "metadata": {},
   "outputs": [
    {
     "name": "stdout",
     "output_type": "stream",
     "text": [
      "Accuracy:0.962 \n",
      "\n",
      "Classification report\n",
      "             precision    recall  f1-score   support\n",
      "\n",
      "          0       1.00      1.00      1.00        39\n",
      "          1       0.92      0.97      0.94        35\n",
      "          2       0.97      0.90      0.93        31\n",
      "\n",
      "avg / total       0.96      0.96      0.96       105\n",
      " \n",
      "\n",
      "Confussion matrix\n",
      "[[39  0  0]\n",
      " [ 0 34  1]\n",
      " [ 0  3 28]] \n",
      "\n"
     ]
    }
   ],
   "source": [
    "from sklearn import metrics\n",
    "def measure_performance(x,y,clf, show_accuracy=True,show_classification_report=True, show_confussion_matrix=True):\n",
    "    y_pred=clf.predict(x)\n",
    "    if show_accuracy:\n",
    "        print(\"Accuracy:{0:.3f}\".format(metrics.accuracy_score(y, y_pred)), \"\\n\")\n",
    "\n",
    "    if show_classification_report:\n",
    "        print(\"Classification report\")\n",
    "        print(metrics.classification_report(y, y_pred), \"\\n\")\n",
    "\n",
    "    if show_confussion_matrix:\n",
    "        print(\"Confussion matrix\")\n",
    "        print(metrics.confusion_matrix(y, y_pred),\"\\n\")\n",
    "\n",
    "\n",
    "measure_performance(x_train, y_train, clf)"
   ]
  },
  {
   "cell_type": "code",
   "execution_count": 1,
   "metadata": {},
   "outputs": [
    {
     "name": "stdout",
     "output_type": "stream",
     "text": [
      "['row.names' 'pclass' 'survived' 'name' 'age' 'embarked' 'home.dest' 'room'\n",
      " 'ticket' 'boat' 'sex']\n",
      "['1' '1st' '1' 'Allen, Miss Elisabeth Walton' '29.0000' 'Southampton'\n",
      " 'St Louis, MO' 'B-5' '24160 L221' '2' 'female'] 1\n",
      "['pclass' 'age' 'sex']\n",
      "['1st' 'NA' 'female'] 1\n",
      "Cateorical classes: ['female' 'male']\n",
      "Integer classes: [0 1]\n",
      "['pclass' 'age' 'sex']\n",
      "['1st' '31.19418104265403' '0'] 1\n",
      "Categorical classes: ['1st' '2nd' '3rd']\n",
      "Integer classes: [[0]\n",
      " [1]\n",
      " [2]]\n",
      "['age', 'sex', 'first class', 'second class', 'third class']\n",
      "[ 29.   0.   1.   0.   0.] 1.0\n"
     ]
    },
    {
     "name": "stderr",
     "output_type": "stream",
     "text": [
      "C:\\Users\\masayoshi\\Anaconda3\\lib\\site-packages\\sklearn\\cross_validation.py:41: DeprecationWarning: This module was deprecated in version 0.18 in favor of the model_selection module into which all the refactored classes and functions are moved. Also note that the interface of the new CV iterators are different from that of this module. This module will be removed in 0.20.\n",
      "  \"This module will be removed in 0.20.\", DeprecationWarning)\n"
     ]
    },
    {
     "name": "stdout",
     "output_type": "stream",
     "text": [
      "Accuracy:0.822 \n",
      "\n",
      "Classification report\n",
      "             precision    recall  f1-score   support\n",
      "\n",
      "        0.0       0.80      0.97      0.88       643\n",
      "        1.0       0.90      0.55      0.68       341\n",
      "\n",
      "avg / total       0.84      0.82      0.81       984\n",
      " \n",
      "\n",
      "Confussion matrix\n",
      "[[622  21]\n",
      " [154 187]] \n",
      "\n",
      "Accuracy:0.857 \n",
      "\n",
      "Classification report\n",
      "             precision    recall  f1-score   support\n",
      "\n",
      "        0.0       0.84      0.97      0.90       643\n",
      "        1.0       0.92      0.64      0.76       341\n",
      "\n",
      "avg / total       0.87      0.86      0.85       984\n",
      " \n",
      "\n",
      "Confussion matrix\n",
      "[[624  19]\n",
      " [122 219]] \n",
      "\n",
      "MSE train : 1.505, test : 18.948\n",
      "MSE train : 0.982, test : 0.772\n"
     ]
    },
    {
     "data": {
      "image/png": "[encoded data removed]",
      "text/plain": [
       "<matplotlib.figure.Figure at 0x2425c971c50>"
      ]
     },
     "metadata": {},
     "output_type": "display_data"
    }
   ],
   "source": [
    "import csv\n",
    "import numpy as np\n",
    "\n",
    "with open('./titanic.csv','r') as csvfile:\n",
    "    titanic_reader = csv.reader(csvfile,delimiter=',',quotechar='\"')\n",
    "\n",
    "    #特徴量の名前が書かれたHeaderを読み取る\n",
    "    row = next(titanic_reader)\n",
    "    feature_names = np.array(row)\n",
    "\n",
    "    #データと正解ラベルを読み取る\n",
    "    titanic_x, titanic_y = [],[]\n",
    "    for row in titanic_reader:\n",
    "        titanic_x.append(row)\n",
    "        titanic_y.append(row[2]) #正解ラベルは3列目の\"survived\"\n",
    "\n",
    "    titanic_x = np.array(titanic_x) #型をリストからnumpy.ndarrayにする\n",
    "    titanic_y = np.array(titanic_y) #型をリストからnumpy.ndarrayにする\n",
    "\n",
    "print(feature_names)\n",
    "print(titanic_x[0],titanic_y[0])\n",
    "\n",
    "\n",
    "#class(1),age(4),sex(10)を残す\n",
    "titanic_x = titanic_x[:,[1, 4, 10]]\n",
    "feature_names = feature_names[[1, 4, 10]]\n",
    "\n",
    "print(feature_names)\n",
    "print(titanic_x[12],titanic_y[12])\n",
    "\n",
    "\n",
    "#年齢の欠損値を平均値で埋める\n",
    "ages = titanic_x[:,1]\n",
    "#NA以外のageの平均値を計算する\n",
    "mean_age = np.mean(titanic_x[ages != 'NA',1].astype(float))\n",
    "#ageがNAのものを平均値に置き換える\n",
    "titanic_x[titanic_x[:, 1] == 'NA',1] =mean_age\n",
    "\n",
    "\n",
    "from sklearn.preprocessing import LabelEncoder\n",
    "enc = LabelEncoder()\n",
    "label_encoder = enc.fit(titanic_x[:, 2])\n",
    "print('Cateorical classes:',label_encoder.classes_)\n",
    "\n",
    "integer_classes = label_encoder.transform(label_encoder.classes_)\n",
    "print('Integer classes:',integer_classes)\n",
    "\n",
    "t = label_encoder.transform(titanic_x[:, 2])\n",
    "titanic_x[:,2] = t\n",
    "\n",
    "print(feature_names)\n",
    "print(titanic_x[12],titanic_y[12])\n",
    "\n",
    "\n",
    "from sklearn.preprocessing import OneHotEncoder\n",
    "enc = LabelEncoder()\n",
    "label_encoder = enc.fit(titanic_x [:, 0])\n",
    "print(\"Categorical classes:\", label_encoder.classes_)\n",
    "integer_classes = label_encoder.transform(label_encoder.classes_).reshape(3, 1)\n",
    "print(\"Integer classes:\", integer_classes)\n",
    "enc = OneHotEncoder()\n",
    "one_hot_encoder = enc.fit(integer_classes)\n",
    "\n",
    "#最初に、Label Encoderを使ってpclassを0-2に直す\n",
    "num_of_rows = titanic_x.shape[0]\n",
    "t = label_encoder.transform(titanic_x[:, 0]).reshape(num_of_rows, 1)\n",
    "#次に、OneHotEncoderを使ってデータを1, 0に変換\n",
    "new_features = one_hot_encoder.transform(t)\n",
    "#1,0になおしてデータを統合する\n",
    "titanic_x = np.concatenate([titanic_x, new_features.toarray()], axis = 1)\n",
    "#OnehotEncoderをする前のpclassのデータを削除する\n",
    "titanic_x = np.delete(titanic_x, [0], 1)\n",
    "#特徴量の名前を更新する\n",
    "feature_names = ['age', 'sex', 'first class', 'second class', 'third class']\n",
    "\n",
    "# Convert to numerical values\n",
    "titanic_x = titanic_x.astype (float)\n",
    "titanic_y = titanic_y.astype (float)\n",
    "\n",
    "print(feature_names)\n",
    "print(titanic_x[0],titanic_y[0])\n",
    "\n",
    "from sklearn.cross_validation import train_test_split\n",
    "x_train, x_test, y_train, y_test = train_test_split(titanic_x, titanic_y, test_size=0.25, random_state=0)\n",
    "\n",
    "\n",
    "from sklearn import metrics\n",
    "def measure_performance(x,y,clf, show_accuracy=True,show_classification_report=True, show_confussion_matrix=True):\n",
    "    y_pred=clf.predict(x)\n",
    "    if show_accuracy:\n",
    "        print(\"Accuracy:{0:.3f}\".format(metrics.accuracy_score(y, y_pred)), \"\\n\")\n",
    "\n",
    "    if show_classification_report:\n",
    "        print(\"Classification report\")\n",
    "        print(metrics.classification_report(y, y_pred), \"\\n\")\n",
    "\n",
    "    if show_confussion_matrix:\n",
    "        print(\"Confussion matrix\")\n",
    "        print(metrics.confusion_matrix(y, y_pred),\"\\n\")\n",
    "\n",
    "from sklearn import tree\n",
    "clf = tree.DecisionTreeClassifier(criterion='entropy', max_depth= 3, min_samples_leaf = 5)\n",
    "clf = clf.fit(x_train, y_train)\n",
    "\n",
    "import pydotplus\n",
    "from sklearn.externals.six import StringIO\n",
    "dot_data = StringIO()\n",
    "tree.export_graphviz(clf, out_file=dot_data,feature_names = ['age','Sex','1st_c1ass','2nd_class','3rd_class'])\n",
    "graph = pydotplus.graph_from_dot_data(dot_data.getvalue())\n",
    "graph.write_pdf(\"tree.pdf\")\n",
    "\n",
    "#決定木モデルの評価\n",
    "measure_performance(x_train, y_train, clf)\n",
    "\n",
    "\n",
    "from sklearn.ensemble import RandomForestClassifier\n",
    "clf = RandomForestClassifier(n_estimators=30, random_state=0)\n",
    "clf = clf.fit(x_train, y_train)\n",
    "\n",
    "#ランダムフォレストモデルの評価\n",
    "measure_performance(x_train, y_train, clf)\n",
    "\n",
    "\n",
    "# ======= 回帰 =======\n",
    "# 必要なライブラリのインポート\n",
    "import numpy as np\n",
    "import pandas as pd\n",
    "import matplotlib.pyplot as plt\n",
    "from pandas import DataFrame\n",
    "from sklearn.datasets import load_boston\n",
    "from sklearn.model_selection import train_test_split\n",
    "from sklearn.ensemble import RandomForestRegressor\n",
    "\n",
    "# データの読み込み\n",
    "boston = load_boston()\n",
    "df = DataFrame(boston.data, columns = boston.feature_names)\n",
    "df['MEDV'] = np.array(boston.target)\n",
    "\n",
    "# 説明変数及び目的変数\n",
    "X = df.iloc[:, :-1].values\n",
    "y = df.loc[:, 'MEDV'].values\n",
    "\n",
    "# 学習用、検証用データに分割\n",
    "(X_train, X_test, y_train, y_test) = train_test_split(X, y, test_size = 0.3, random_state = 0)\n",
    "\n",
    "# モデル構築\n",
    "forest = RandomForestRegressor()\n",
    "forest.fit(X_train, y_train)\n",
    "\n",
    "# 予測値を計算\n",
    "y_train_pred = forest.predict(X_train)\n",
    "y_test_pred = forest.predict(X_test)\n",
    "\n",
    "# MSEの計算\n",
    "from sklearn.metrics import mean_squared_error\n",
    "print('MSE train : %.3f, test : %.3f' % (mean_squared_error(y_train, y_train_pred), mean_squared_error(y_test, y_test_pred)) )\n",
    "\n",
    "# R^2の計算\n",
    "from sklearn.metrics import r2_score\n",
    "print('MSE train : %.3f, test : %.3f' % (r2_score(y_train, y_train_pred), r2_score(y_test, y_test_pred)) )\n",
    "\n",
    "# 残差プロット\n",
    "# %matplotlib inline\n",
    "plt.figure(figsize = (10, 7))\n",
    "plt.scatter(y_train_pred, y_train_pred - y_train, c = 'green', marker = 'o', s = 35, alpha = 0.5, label = 'Training data')\n",
    "plt.scatter(y_test_pred, y_test_pred - y_test, c = 'blue', marker = 's', s = 35, alpha = 0.7, label = 'Test data')\n",
    "plt.xlabel('Predicted values')\n",
    "plt.ylabel('Residuals')\n",
    "plt.legend(loc = 'upper left')\n",
    "plt.hlines(y = 0, xmin = -10, xmax = 50, lw = 2, color = 'red')\n",
    "plt.xlim([-10, 50])\n",
    "plt.show()"
   ]
  },
  {
   "cell_type": "code",
   "execution_count": null,
   "metadata": {
    "collapsed": true
   },
   "outputs": [],
   "source": []
  }
 ],
 "metadata": {
  "kernelspec": {
   "display_name": "Python 3",
   "language": "python",
   "name": "python3"
  },
  "language_info": {
   "codemirror_mode": {
    "name": "ipython",
    "version": 3
   },
   "file_extension": ".py",
   "mimetype": "text/x-python",
   "name": "python",
   "nbconvert_exporter": "python",
   "pygments_lexer": "ipython3",
   "version": "3.6.3"
  }
 },
 "nbformat": 4,
 "nbformat_minor": 2
}
