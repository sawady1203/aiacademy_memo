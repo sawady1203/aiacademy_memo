{
 "cells": [
  {
   "cell_type": "markdown",
   "metadata": {},
   "source": [
    "# 主成分分析(PCA)とは\n",
    "\n",
    "データセットの次元が多いと、データ分析においても、機械学習においても計算コストが増え、データの様子が分かりにくくなります。\n",
    "\n",
    "その解決策として、統計や機械学数の分野でよく使われる手法が、主成分分析（Principal Component Analysis：PCA）です。\n",
    "\n",
    "主成分分析では、特徴量を抽出することによって、データセット内の特徴量を削減することが出来ます。\n",
    "\n",
    "それによって、3次元以下に次元を削減することが出来れば、データを可視化することもできます。\n",
    "\n",
    "別章「pandasの前処理・整形」で扱った特徴量削減方法では、元の特徴量は何の変換もされることなく、\n",
    "\n",
    "特徴量はそのままの形式を保たれていました。\n",
    "\n",
    "しかし、主成分分析では、特徴量を「選択」するものではなく、新しい特徴量を「抽出」します。\n",
    "\n",
    "ただし、ここでいう「抽出」とは非可逆的な（一度抽出したら、元のデータセットの特長量には戻らない）ものなので、いくらか失われる情報が出てきます。"
   ]
  },
  {
   "cell_type": "markdown",
   "metadata": {},
   "source": [
    "# 主成分分析を理解する\n",
    "主成分分析とは、データセットの次元を削減するために用いる手法ですが、主成分分析をした後の次元数を何個にしなければならない、といった規定はありません。\n",
    "\n",
    "なので、極論をいってしまえば、主成分分析を行った後の次元数が元のデータセットと同じ次元数でも問題は無いのです。\n",
    "\n",
    "それでは次元削減できていないではないか、と感じる人も多くいるかもしれませんが、\n",
    "\n",
    "イメージでいえば主成分分析では、次元の重要でないものを消すことも、消さないこともできるといったものです。\n",
    "\n",
    "数多くある次元数の中から、「重要な次元」のみをピックアップすれば、次元を減らすことが出来ます。\n",
    "\n",
    "主成分分析は教師なし学習なので、正解（ラベルや教師データ）がないため、分散によって次元の重要度を決めます。\n",
    "\n",
    "分散は、データのばらつきを表す指標の一つなので、分散が大きければ大きいだけデータのバラつきは大きく、\n",
    "\n",
    "分散が小さければ小さいだけデータのバラつきが小さいといえます。\n",
    "\n",
    "すなわち、分散が大きければデータの値ごとの差も見つけやすく、分散が小さければ、データの値ごとの差が見つけにくいといえます。\n",
    "\n",
    "よって、一番初めに新しく抽出する次元は、その次元に射影したデータの分散が最大になるように作成します。\n",
    "\n",
    "たとえば、まず2次元のデータを考えるために、下のようなy=2x+1の一次関数を考えましょう。\n",
    "\n",
    "プロットする点は (2,5),(3,7),(5,11),(7,15) で、これらの点をx軸y軸に射影してそれぞれの分散を求めます。"
   ]
  },
  {
   "cell_type": "markdown",
   "metadata": {},
   "source": [
    "<img src = \"PCA_1.png\">"
   ]
  },
  {
   "cell_type": "markdown",
   "metadata": {},
   "source": [
    "まず主成分分析をする前の分散について考えます。上の図のようにデータをx軸に射影したときの分散は3.69, y軸に射影したときの分散は14.75です。\n",
    "\n",
    "さらに、設定した関数から、(2,5),(3,7),(5,11),(7,15)が相関していることは明らかです。\n",
    "\n",
    "ここで、2次元から1次元への圧縮を考えます。新しい次元Z1は、以下のようなものです。"
   ]
  },
  {
   "cell_type": "markdown",
   "metadata": {},
   "source": [
    "<img src= \"PCA_2.png\">"
   ]
  },
  {
   "cell_type": "markdown",
   "metadata": {},
   "source": [
    "新しく抽出した次元に射影したデータの分散は、x軸やy軸へデータを射影した時よりも間隔（バラつき）が大きいため、分散が大きいことが分かります。\n",
    "\n",
    "さらに、この次元に直行する新しい次元についても考えてみましょう。"
   ]
  },
  {
   "cell_type": "markdown",
   "metadata": {},
   "source": [
    "<img src = \"PCA_3.png\">"
   ]
  },
  {
   "cell_type": "markdown",
   "metadata": {},
   "source": [
    "この次元では、すべてのデータの間隔（バラつき）が０なので、情報が全く含まれていないことが分かります。\n",
    "\n",
    "主成分分析とは、このような作業によって、2次元を1次元に抽出する作業の事をさします。"
   ]
  },
  {
   "cell_type": "markdown",
   "metadata": {},
   "source": [
    "# Scikit-learnを用いた主成分分析\n",
    "先ほどのような主成分分析は、Pythonではどのように実装できるのでしょうか。\n",
    "\n",
    "実際に、打ち込んでみましょう。\n",
    "\n",
    "次のコードでは、y=2x+1上の (2,5),(3,7),(5,11),(7,15) \n",
    "\n",
    "のデータを主成分分析して、分析結果したものの散布図を表示します。"
   ]
  },
  {
   "cell_type": "code",
   "execution_count": 12,
   "metadata": {},
   "outputs": [
    {
     "data": {
      "image/png": "[encoded data removed]",
      "text/plain": [
       "<matplotlib.figure.Figure at 0x14c33d2b860>"
      ]
     },
     "metadata": {},
     "output_type": "display_data"
    }
   ],
   "source": [
    "import numpy as np\n",
    "from matplotlib import pyplot as plt\n",
    "from sklearn.decomposition import PCA\n",
    "\n",
    "# グラフ描画サイズを設定する\n",
    "plt.figure(figsize=(7,4))\n",
    "\n",
    "#y = 2x + 1\n",
    "features = np.array([[2, 5], [3, 7], [5, 11], [7, 15]])\n",
    "\n",
    "# 主成分分析をする\n",
    "pca = PCA()\n",
    "pca.fit(features)\n",
    "\n",
    "# データセットを主成分に変換する\n",
    "transformed = pca.fit_transform(features)\n",
    "\n",
    "# 主成分をプロットする\n",
    "plt.scatter(transformed[:, 0], transformed[:, 1])\n",
    "plt.title('principal component')\n",
    "plt.xlabel('Z1')\n",
    "plt.ylabel('Z2')\n",
    "plt.savefig('PCA_sample1')\n",
    "plt.show()"
   ]
  },
  {
   "cell_type": "markdown",
   "metadata": {},
   "source": [
    "# 第一主成分と、第二主成分\n",
    "\n",
    "以上によって、主成分分析の概念は説明しましたが、多くのデータはy=2x+1のような一次関数上にあるわけではありません。\n",
    "\n",
    "基本的にはデータセットには、分散が含まれていて一つの次元に収めることは出来ません。そういったときには幾つかの主成分を考えること求められます。\n",
    "\n",
    "今回の主成分に最初に選ばれたZ1軸のような、射影したデータの分散が最大になるような軸を__第一主成分__といい、\n",
    "\n",
    "第一主成分と直行する軸の中で、\n",
    "軸上に射影したデータの分散が最大になる軸を__第二主成分__といいます。\n",
    "\n",
    "ここで少しだけ、どのように主成分分析がScikit-Learnの中で行われているか、線形代数を用いてざっくりと手順を説明しておきます。\n",
    "\n",
    "ただし、Scikit-Learnを用いれば数行で書くことが出来ます。\n",
    "\n",
    "よって、Scikit-Learnによる主成分分析を使えれば良いという人は、この手順について深く理解する必要はありません。"
   ]
  },
  {
   "cell_type": "markdown",
   "metadata": {},
   "source": [
    "1. 変数x1, x2, x3, ・・・, xpを標準化する\n",
    "<img src = \"PCA_4.png\">\n",
    "\n",
    "2. 第１主成分z1を以下のように定める\n",
    "<img src = \"PCA_5.png\">\n",
    "\n",
    "3. z１の分散Vz1が最大になる[a1, a2, ･･･, ap]を求める。その解は各データの\n",
    "    x1, x2, x3, ,,,xpの相関行Rとすと、\n",
    "<img src = \"PCA_6.png\">　であり、第一固有値(最大固有値)λ1に対応する長さ1の固有ベクトルとなる。このときVz1 = λ1となる。\n",
    "\n",
    "\n",
    "4.  第2主成分はRの第2固有値λ2に対応する長さ1の固有ベクトルとなる。このときVz2=λ2\n",
    "\n",
    "\n",
    "5. 第k主成分は第k固有値に対応する（長さ1の）固有ベクトルとして求める事が出来る。\n",
    "\n",
    "この手順にのっとって第k主成分は、原理的には元の次元数pと同じ数まで増やすことが出来ます。"
   ]
  },
  {
   "cell_type": "markdown",
   "metadata": {},
   "source": [
    "# 主成分分析の評価方法(累積寄与率)\n",
    "\n",
    "原理的には元のデータの次元数まで増やすことのできる主成分ですが、いくつの主成分を採用すればよいのでしょうか。\n",
    "\n",
    "一般的に累積寄与率が80%となるよう、主成分を抽出すると良いとされています。\n",
    "\n",
    "ただし、この80％という数字はきちんと定められたものではなく、60％で言いという人もいます。\n",
    "\n",
    "なので、どの主成分を使うべきかについては、それぞれの分析者によって定められます。\n",
    "\n",
    "第k主成分の寄与率の定義式は以下の通りです。\n",
    "\n",
    "<img src = \"PCA_7.png\">\n",
    "\n",
    "また、第k主成分までの累積寄与率を\n",
    "\n",
    "<img src = \"PCA_8.png\">\n",
    "\n",
    "と定義する。\n",
    "\n",
    "実際に、先ほどのy=2x+1の一次関数上に取った点での、各成分での寄与率と累積寄与率は、\n",
    "explained_variance_ratio_　メソッドを使うことで、計算することが出来る。"
   ]
  },
  {
   "cell_type": "code",
   "execution_count": 13,
   "metadata": {},
   "outputs": [
    {
     "name": "stdout",
     "output_type": "stream",
     "text": [
      "各次元の寄与率：[  1.00000000e+00   1.60324863e-35]\n",
      "累積寄与率：1.0\n"
     ]
    }
   ],
   "source": [
    "print('各次元の寄与率：{0}'.format(pca.explained_variance_ratio_))\n",
    "print('累積寄与率：{0}'.format(sum(pca.explained_variance_ratio_)))"
   ]
  },
  {
   "cell_type": "markdown",
   "metadata": {},
   "source": [
    "# 実装例\n",
    "\n",
    "実際に、どのように主成分分析が活用できるのか、今回はIrisデータセットを用いて考えてみましょう。\n",
    "\n",
    "Iris（アヤメ）データセットとは、“setosa”, “versicolor”, “virginica” という 3 種類の品種のアヤメのがく片 (Sepal)、花弁 (Petal) の幅および長さを計測したデータです。\n",
    "\n",
    "アイリスデータセットには150個のデータがあり、3種類のアヤメのデータがあるので、4次元のデータという事になります。\n",
    "\n",
    "今回これら４次元のデータに関して主成分分析をすることで、2次元の第一主成分と第二主成分に抽出をし、可視化をします。\n",
    "\n",
    "さらにそれらの累積寄与率を調べたいと思います。\n",
    "\n",
    "まずはデータの読み込みをします"
   ]
  },
  {
   "cell_type": "code",
   "execution_count": 15,
   "metadata": {},
   "outputs": [
    {
     "name": "stdout",
     "output_type": "stream",
     "text": [
      "(150, 4)\n"
     ]
    }
   ],
   "source": [
    "import numpy as np\n",
    "import matplotlib.pyplot as plt\n",
    "from sklearn import datasets\n",
    "from sklearn.decomposition import PCA\n",
    "import matplotlib.cm as cm\n",
    "\n",
    "#データセットの読み込み\n",
    "iris = datasets.load_iris()\n",
    "X = iris.data\n",
    "Y = iris.target\n",
    "\n",
    "# 主成分分析前のサイズ\n",
    "print(X.shape)"
   ]
  },
  {
   "cell_type": "markdown",
   "metadata": {},
   "source": [
    "Irisデータセットは3種類の150個のデータがある4次元のデータセットなので、出力は(150, 4)となります。\n",
    "続いて、主成分分析によって、2次元に変換してみます。"
   ]
  },
  {
   "cell_type": "code",
   "execution_count": 16,
   "metadata": {},
   "outputs": [
    {
     "name": "stdout",
     "output_type": "stream",
     "text": [
      "(150, 2)\n"
     ]
    }
   ],
   "source": [
    "# 主成分分析による次元削減\n",
    "pca = PCA(n_components = 2, whiten = False)\n",
    "pca.fit(X)\n",
    "X_pca = pca.fit_transform(X)\n",
    "print(X_pca.shape)"
   ]
  },
  {
   "cell_type": "markdown",
   "metadata": {},
   "source": [
    "変換後にはIrisデータセットは150個のデータがある2次元のデータセットとなっているので、出力は(150, 2)となります。\n",
    "さらに、このデータは2次元のデータなので、matplotlibを用いることで、これらを可視化することが出来ます。"
   ]
  },
  {
   "cell_type": "code",
   "execution_count": 17,
   "metadata": {},
   "outputs": [
    {
     "data": {
      "image/png": "[encoded data removed]",
      "text/plain": [
       "<matplotlib.figure.Figure at 0x14c39c8f978>"
      ]
     },
     "metadata": {},
     "output_type": "display_data"
    }
   ],
   "source": [
    "# 分析結果を元にデータセットを主成分に変換する\n",
    "transformed = pca.fit_transform(X)\n",
    "\n",
    "#主成分をプロットする\n",
    "#花の種類別で色を変える\n",
    "for label in np.unique(Y):\n",
    "    if label == 0:\n",
    "        c = 'red'\n",
    "    elif label == 1:\n",
    "        c = \"blue\"\n",
    "    elif label == 2:\n",
    "        c = \"green\"\n",
    "    else:\n",
    "        pass\n",
    "    plt.scatter(transformed[Y == label, 0],\n",
    "                transformed[Y == label, 1],\n",
    "                c=c)\n",
    "plt.title(\"principle component\")\n",
    "plt.xlabel('pc1')\n",
    "plt.ylabel('pc2')\n",
    "plt.show()"
   ]
  },
  {
   "cell_type": "markdown",
   "metadata": {},
   "source": [
    "今回は第二主成分まで考えましたが、この累積寄与率を調べます。\n",
    "\n",
    "累積寄与率が80％を大幅に超えているため、主成分分析の基準を満たしていると\n",
    "考えられます。"
   ]
  },
  {
   "cell_type": "code",
   "execution_count": 19,
   "metadata": {},
   "outputs": [
    {
     "name": "stdout",
     "output_type": "stream",
     "text": [
      "各次元の寄与率：[ 0.92461621  0.05301557]\n",
      "累積寄与率：0.9776317750248034\n"
     ]
    }
   ],
   "source": [
    "# 主成分の寄与率を出力します\n",
    "print('各次元の寄与率：{0}'.format(pca.explained_variance_ratio_))\n",
    "print('累積寄与率：{0}'.format(sum(pca.explained_variance_ratio_)))"
   ]
  },
  {
   "cell_type": "markdown",
   "metadata": {},
   "source": [
    "# まとめ\n",
    "Scikit-learnを活用した主成分分析を行いました。\n",
    "\n",
    "まとめとして、Scikit-learnを用いた時の主成分分析の流れは以下の通りです。\n",
    "\n",
    "１．主成分分析で次元削減を行う。\n",
    "\n",
    "２．分析結果をもとに、データセットを主成分に変換する\n",
    "\n",
    "３．主成分をプロットする\n",
    "\n",
    "４．主成分の寄与率で基準を満たしているか評価する\n",
    "\n",
    "ここでは、主成分の寄与率で、第k主成分の累積寄与率が80％であれば基準を満たすという表現をしましたが、その評価方法はケースバイケースで変化するので注意してください。\n",
    "\n",
    "また、主成分分析の詳しいアルゴリズムについては、以下のURLが有効です。\n",
    "30分で分かる次元削減https://qiita.com/aya_taka/items/4d3996b3f15aa712a54f"
   ]
  },
  {
   "cell_type": "markdown",
   "metadata": {},
   "source": [
    "# 演習問題\n",
    "（１）分散共分散行列が[[2, 7], [4, 5]]\n",
    "となるようなサンプルを2次元で200個ランダムに発生させるコードは以下の通りである。このコードを記述してください。"
   ]
  },
  {
   "cell_type": "code",
   "execution_count": 36,
   "metadata": {},
   "outputs": [
    {
     "name": "stderr",
     "output_type": "stream",
     "text": [
      "C:\\Users\\masayoshi\\Anaconda3\\lib\\site-packages\\ipykernel_launcher.py:3: RuntimeWarning: covariance is not positive-semidefinite.\n",
      "  This is separate from the ipykernel package so we can avoid doing imports until\n"
     ]
    },
    {
     "name": "stdout",
     "output_type": "stream",
     "text": [
      "[[-1.61044563  1.93663401]\n",
      " [ 0.63498052 -0.64393159]\n",
      " [ 0.35251243 -0.21427241]\n",
      " [ 0.40412757 -1.15713488]\n",
      " [-2.92459783 -5.10495999]\n",
      " [ 2.67352406  5.71984551]\n",
      " [ 1.40219816  6.72959108]\n",
      " [ 0.04721249  1.39887377]\n",
      " [ 4.22524866  3.57208642]\n",
      " [ 1.13326446  4.73848873]]\n"
     ]
    },
    {
     "data": {
      "text/plain": [
       "<matplotlib.collections.PathCollection at 0x14c3a221a90>"
      ]
     },
     "execution_count": 36,
     "metadata": {},
     "output_type": "execute_result"
    },
    {
     "data": {
      "image/png": "[encoded data removed]",
      "text/plain": [
       "<matplotlib.figure.Figure at 0x14c39c8f8d0>"
      ]
     },
     "metadata": {},
     "output_type": "display_data"
    }
   ],
   "source": [
    "import numpy as np\n",
    "cov = np.array([[2, 7], [4, 5]])\n",
    "X = np.random.multivariate_normal([1, 2], cov, size = 200)\n",
    "\n",
    "# (2)ランダムに発生させたデータを上から10個表示せよ\n",
    "print(X[0:10, :])\n",
    "\n",
    "#　(3)ランダムに発生させたデータをプロットせよ\n",
    "import matplotlib.pyplot as plt\n",
    "%matplotlib inline\n",
    "plt.scatter(X[:,0], X[:, 1])"
   ]
  },
  {
   "cell_type": "code",
   "execution_count": 40,
   "metadata": {},
   "outputs": [
    {
     "name": "stdout",
     "output_type": "stream",
     "text": [
      "Xのサイズ： (200, 2)\n",
      "次元削減後のサイズ (200, 1)\n"
     ]
    }
   ],
   "source": [
    "#(4) ランダムに発生させたデータの主成分分析をして、データセットを主成分に変換せよ\n",
    "from sklearn.decomposition import PCA\n",
    "\n",
    "print('Xのサイズ：',X.shape)\n",
    "\n",
    "# 主成分分析による次元削減\n",
    "pca = PCA(n_components = 1, whiten = False)\n",
    "pca.fit(X)\n",
    "X_pca = pca.transform(X)\n",
    "print('次元削減後のサイズ',X_pca.shape)"
   ]
  },
  {
   "cell_type": "code",
   "execution_count": 46,
   "metadata": {},
   "outputs": [
    {
     "data": {
      "text/plain": [
       "<matplotlib.collections.PathCollection at 0x14c3a37e668>"
      ]
     },
     "execution_count": 46,
     "metadata": {},
     "output_type": "execute_result"
    },
    {
     "data": {
      "image/png": "[encoded data removed]",
      "text/plain": [
       "<matplotlib.figure.Figure at 0x14c3a276828>"
      ]
     },
     "metadata": {},
     "output_type": "display_data"
    }
   ],
   "source": [
    "# 主成分をプロットせよ\n",
    "plt.scatter(X_pca[:, 0], X_pca[:,0])"
   ]
  },
  {
   "cell_type": "code",
   "execution_count": 47,
   "metadata": {},
   "outputs": [
    {
     "name": "stdout",
     "output_type": "stream",
     "text": [
      "各次元の寄与率：[ 0.82402199]\n",
      "累積寄与率：0.8240219907391141\n"
     ]
    }
   ],
   "source": [
    "# (6)各主成分の寄与率を出力し、累積寄与率を求める\n",
    "print('各次元の寄与率：{0}'.format(pca.explained_variance_ratio_))\n",
    "print('累積寄与率：{0}'.format(sum(pca.explained_variance_ratio_)))"
   ]
  },
  {
   "cell_type": "markdown",
   "metadata": {},
   "source": [
    "# 以下、模範回答"
   ]
  },
  {
   "cell_type": "code",
   "execution_count": 48,
   "metadata": {},
   "outputs": [
    {
     "name": "stderr",
     "output_type": "stream",
     "text": [
      "C:\\Users\\masayoshi\\Anaconda3\\lib\\site-packages\\ipykernel_launcher.py:3: RuntimeWarning: covariance is not positive-semidefinite.\n",
      "  This is separate from the ipykernel package so we can avoid doing imports until\n"
     ]
    },
    {
     "name": "stdout",
     "output_type": "stream",
     "text": [
      "[[-0.44384312  3.84457796]\n",
      " [-2.0985293   3.52782816]\n",
      " [ 0.29984883 -0.71402943]\n",
      " [ 3.26515064  6.02167373]\n",
      " [ 1.62227772 -2.009106  ]\n",
      " [-1.41447112 -0.21101094]\n",
      " [ 2.5586161   5.68846871]\n",
      " [-1.12309183 -3.90535727]\n",
      " [ 1.94155687  0.99995835]\n",
      " [ 1.59599005  4.09178108]]\n"
     ]
    },
    {
     "data": {
      "image/png": "[encoded data removed]",
      "text/plain": [
       "<matplotlib.figure.Figure at 0x14c3a2450f0>"
      ]
     },
     "metadata": {},
     "output_type": "display_data"
    },
    {
     "data": {
      "image/png": "[encoded data removed]",
      "text/plain": [
       "<matplotlib.figure.Figure at 0x14c3a245668>"
      ]
     },
     "metadata": {},
     "output_type": "display_data"
    },
    {
     "name": "stdout",
     "output_type": "stream",
     "text": [
      "各次元の寄与率: [ 0.84440981  0.15559019]\n",
      "累積寄与率: 1.0\n"
     ]
    }
   ],
   "source": [
    "import numpy as np\n",
    "Cov = np.array([[2, 7], [4, 5]])\n",
    "X = np.random.multivariate_normal([1,2], Cov, size=200)  \n",
    "\n",
    "print(X[:10,:])\n",
    "\n",
    "import matplotlib.pyplot as plt\n",
    "plt.figure(figsize=(4,4))\n",
    "plt.scatter(X[:,0], X[:,1])\n",
    "plt.show()\n",
    "\n",
    "from sklearn.decomposition import PCA\n",
    "pca = PCA()\n",
    "pca.fit(X)\n",
    "X_pca = pca.fit_transform(X)\n",
    "\n",
    "plt.figure(figsize=(4,4))\n",
    "plt.scatter(X_pca[:,0], X_pca[:,1])\n",
    "plt.axis('equal')\n",
    "plt.show()\n",
    "\n",
    "print('各次元の寄与率: {0}'.format(pca.explained_variance_ratio_))\n",
    "print('累積寄与率: {0}'.format(sum(pca.explained_variance_ratio_)))"
   ]
  },
  {
   "cell_type": "code",
   "execution_count": null,
   "metadata": {
    "collapsed": true
   },
   "outputs": [],
   "source": []
  }
 ],
 "metadata": {
  "kernelspec": {
   "display_name": "Python 3",
   "language": "python",
   "name": "python3"
  },
  "language_info": {
   "codemirror_mode": {
    "name": "ipython",
    "version": 3
   },
   "file_extension": ".py",
   "mimetype": "text/x-python",
   "name": "python",
   "nbconvert_exporter": "python",
   "pygments_lexer": "ipython3",
   "version": "3.6.3"
  }
 },
 "nbformat": 4,
 "nbformat_minor": 2
}
