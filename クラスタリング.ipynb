{
 "cells": [
  {
   "cell_type": "markdown",
   "metadata": {},
   "source": [
    "# クラスタリング\n",
    "\n",
    "今までの学習は、教師あり学習と呼ばれ正解ラベルがあるデータを分類するものでした。\n",
    "\n",
    "改めて、クラス分類とクラスタリングの違いを説明します。\n",
    "\n",
    "クラス分類は「教師あり学習」、クラスタリングは「教師なし学習」\n",
    "\n",
    "クラス分類では事前に決まっている分類を新しいデータに当てはめて考える手法で、\n",
    "\n",
    "クラスタリングは、データの中で似たものの集まりを見つける手法でした。\n",
    "\n",
    "今回は、教師なし学習のクラスタリングについて学習します。\n",
    "\n",
    "クラスタリングとは、正解ラベルがないデータに対しいくつかのグループ（クラスタ）に分けるものです。\n",
    "\n",
    "クラスタリングは、代表的な教師なし学習手法で、多変量のサンプルデータが大量にある場合に、\n",
    "\n",
    "どういった傾向のクラスタに分割できるかが不明な場合に、\n",
    "\n",
    "クラスタリングすることで、全体のサンプルの中で\n",
    "\n",
    "クラスタを分割することが出来る手法になります。\n",
    "\n",
    "例として、顧客のセグメント化や遺伝子の発現パターンなどがあります。"
   ]
  },
  {
   "cell_type": "markdown",
   "metadata": {},
   "source": [
    "# K-meansとは\n",
    "\n",
    "K-meansとは、クラスタリングのアルゴリズムの一種で実行速度が速く拡張性があるという特徴があります。\n",
    "\n",
    "K-meansのKはクラスタの数を示すハイパーパラメータです。\n",
    "\n",
    "Kは必ずデータの数より小さい値に設定します。\n",
    "\n",
    "なぜ「Kがデータは数より少なく設定するのか」ですが、クラスの数＜データ数として、分類をするためです。\n",
    "\n",
    "決まった値がなく不明瞭ですが、様々な求める手法があります。"
   ]
  },
  {
   "cell_type": "markdown",
   "metadata": {},
   "source": [
    "# K-meansのアルゴリズム\n",
    "\n",
    "1. ランダムな位置にクラスタの重心(中心点)を定める\n",
    "2. それぞれのクラスタの重心と各点の距離を計算\n",
    "3. 各点を一番近いクラスタに割り当てる\n",
    "4. 2と3を繰り返し、設定した回数繰り返すか、クラスタの変更がなくなったら終了\n",
    "\n",
    "# K-meansの問題点\n",
    "K-meansの問題点として、初期値によって局所最適解に陥ることがある。\n",
    "解決策として、初期値を変えて何度も実行することがあげられる"
   ]
  },
  {
   "cell_type": "markdown",
   "metadata": {},
   "source": [
    "# K-meansの実装例"
   ]
  },
  {
   "cell_type": "code",
   "execution_count": 7,
   "metadata": {},
   "outputs": [
    {
     "name": "stdout",
     "output_type": "stream",
     "text": [
      "[[1 1]\n",
      " [2 3]\n",
      " [3 2]\n",
      " [1 2]\n",
      " [5 8]\n",
      " [6 6]\n",
      " [5 7]\n",
      " [5 6]\n",
      " [6 7]\n",
      " [7 1]\n",
      " [8 2]\n",
      " [9 1]\n",
      " [7 1]\n",
      " [9 3]]\n"
     ]
    },
    {
     "data": {
      "text/plain": [
       "<matplotlib.collections.PathCollection at 0x23a78af8828>"
      ]
     },
     "execution_count": 7,
     "metadata": {},
     "output_type": "execute_result"
    },
    {
     "data": {
      "image/png": "[encoded data removed]",
      "text/plain": [
       "<matplotlib.figure.Figure at 0x23a7877d320>"
      ]
     },
     "metadata": {},
     "output_type": "display_data"
    }
   ],
   "source": [
    "#クラスタリングするデータを作成\n",
    "import numpy as np\n",
    "from sklearn.cluster import KMeans\n",
    "from sklearn import metrics\n",
    "import matplotlib.pyplot as plt\n",
    "%matplotlib inline\n",
    "\n",
    "x1 = np.array([1,2,3,1,5,6,5,5,6,7,8,9,7,9])\n",
    "x2 = np.array([1,3,2,2,8,6,7,6,7,1,2,1,1,3])\n",
    "\n",
    "# 1次元目をx1, 2次元目をx2とする行列を作成\n",
    "x = np.c_[x1, x2]\n",
    "#\n",
    "print(x)\n",
    "\n",
    "# x軸とy軸の幅を設定する\n",
    "plt.xlim([0, 10])\n",
    "plt.ylim([0, 10])\n",
    "plt.title('data')\n",
    "\n",
    "# 散布図を作成\n",
    "plt.scatter(x1, x2)"
   ]
  },
  {
   "cell_type": "code",
   "execution_count": 10,
   "metadata": {},
   "outputs": [
    {
     "name": "stdout",
     "output_type": "stream",
     "text": [
      "[2 2 2 2 1 1 1 1 1 0 0 0 0 0]\n"
     ]
    },
    {
     "data": {
      "image/png": "[encoded data removed]",
      "text/plain": [
       "<matplotlib.figure.Figure at 0x23a7a253518>"
      ]
     },
     "metadata": {},
     "output_type": "display_data"
    }
   ],
   "source": [
    "# 今回はkを3にして学習する\n",
    "kmeans = KMeans(n_clusters = 3)\n",
    "kmeans_model = kmeans.fit(x)\n",
    "print(kmeans_model.labels_)\n",
    "\n",
    "\"\"\"\n",
    "パラメータのn_clustersはクラスタ数を示しています。\n",
    "実行すると、それぞれのデータがどのクラスタに属しているか出力されます。\n",
    "[0 0 0 0 2 2 2 2 2 1 1 1 1 1]\n",
    "数値ではわかりづらいので可視化してみてみましょう。\n",
    "\"\"\"\n",
    "# 色とマーカーの形を設定\n",
    "colors = ['b', 'g', 'y']\n",
    "markers = ['o', 's', 'D']\n",
    "\n",
    "for i, l in enumerate(kmeans_model.labels_):\n",
    "    plt.plot(x1[i], x2[i], color = colors[l], marker = markers[l], ls='None')\n",
    "    plt.xlim([0, 10])\n",
    "    plt.ylim([0, 10])\n",
    "plt.show()"
   ]
  },
  {
   "cell_type": "markdown",
   "metadata": {},
   "source": [
    "# まとめ\n",
    "今回は、教師なし学習のクラスタリングとその手法のK-meansを学習しました。\n",
    "K-meansは設定したKの数にデータを分ける学習で、顧客のセグメント化などに使われます。"
   ]
  },
  {
   "cell_type": "markdown",
   "metadata": {},
   "source": [
    "# 演習問題\n",
    "1）手書きで書かれた数字をクラスタリングによって分類してみましょう。"
   ]
  },
  {
   "cell_type": "code",
   "execution_count": 9,
   "metadata": {
    "scrolled": true
   },
   "outputs": [
    {
     "data": {
      "image/png": "[encoded data removed]",
      "text/plain": [
       "<matplotlib.figure.Figure at 0x1b8dab38128>"
      ]
     },
     "metadata": {},
     "output_type": "display_data"
    }
   ],
   "source": [
    "#まずはデータのロードと図の表示\n",
    "import numpy as np\n",
    "import matplotlib.pyplot as plt\n",
    "\n",
    "from sklearn.datasets import load_digits\n",
    "from sklearn.preprocessing import scale\n",
    "\n",
    "%matplotlib inline\n",
    "\n",
    "digits = load_digits()\n",
    "data = scale(digits.data)\n",
    "\n",
    "def print_digits(images, y, max_n=10):\n",
    "    fig = plt.figure(figsize = (12, 12))\n",
    "    fig.subplots_adjust(left=0, right=1, bottom=0, top=1, hspace=0.05, wspace=0.05)\n",
    "    \n",
    "    i=0\n",
    "    while i < max_n and i < images.shape[0]:\n",
    "        p=fig.add_subplot(20, 20, i+1, xticks=[], yticks=[])\n",
    "        p.imshow(images[i], cmap=plt.cm.bone)\n",
    "        p.text(0, 14, str(y[i]))\n",
    "        i = i+1\n",
    "\n",
    "print_digits(digits.images, digits.target, max_n=10)"
   ]
  },
  {
   "cell_type": "code",
   "execution_count": 27,
   "metadata": {},
   "outputs": [
    {
     "name": "stdout",
     "output_type": "stream",
     "text": [
      "images_train: (1347, 8, 8)\n",
      "images_test: (450, 8, 8)\n",
      "x_train: (1347, 64)\n",
      "x_test: (450, 64)\n",
      "y_train: (1347,)\n",
      "y_test: (450,)\n"
     ]
    }
   ],
   "source": [
    "#学習データとテストデータを分ける\n",
    "from sklearn.model_selection import train_test_split\n",
    "\n",
    "x_train, x_test, y_train, y_test, images_train, images_test = train_test_split(data, digits.target, digits.images, test_size = 0.25, random_state=42)\n",
    "n_smple, n_features = x_train.shape\n",
    "n_digits=len(np.unique(y_train))\n",
    "labels = y_train\n",
    "print(\"images_train:\", images_train.shape)\n",
    "print(\"images_test:\", images_test.shape)\n",
    "print(\"x_train:\",x_train.shape)\n",
    "print(\"x_test:\", x_test.shape)\n",
    "print(\"y_train:\",y_train.shape)\n",
    "print(\"y_test:\", y_test.shape)"
   ]
  },
  {
   "cell_type": "markdown",
   "metadata": {},
   "source": [
    "あらかじめ y_train, y_testを作る理由に関して記述致します。\n",
    "\n",
    "K-means自体は教師なし学習ですが、学習したモデル自体を評価するためにラベルが必要です。\n",
    "\n",
    "そのため、y(ラベル）は必要です。\n",
    "\n",
    "images_trainについてもですが、これは、train_test_split関数を参考にして見てください。\n",
    "\n",
    "この関数は与えられたデータをデータ同士の対応関係を維持したまま、train, testに分割してくれます。\n",
    "\n",
    "通常は、この関数に、x(データ), y(ラベル）のみを入れて、分割し、\n",
    "\n",
    "x_train, x_test, y_train, y_testを得ますが、\n",
    "\n",
    "今回は対応するimage(画像）も分割したかったので、それを分化して、\n",
    "\n",
    "images_train, images_testを得ています。 "
   ]
  },
  {
   "cell_type": "code",
   "execution_count": 32,
   "metadata": {},
   "outputs": [
    {
     "data": {
      "image/png": "[encoded data removed]",
      "text/plain": [
       "<matplotlib.figure.Figure at 0x1b8dcbdf5f8>"
      ]
     },
     "metadata": {},
     "output_type": "display_data"
    }
   ],
   "source": [
    "import numpy as np\n",
    "from sklearn.cluster import KMeans\n",
    "import matplotlib.pyplot as plt\n",
    "\n",
    "kmeans = KMeans(n_clusters = 10)\n",
    "kmeans_model = kmeans.fit(x_train)\n",
    "\n",
    "print_digits(images_train, kmeans.labels_, max_n = 10)\n",
    "\n",
    "y_pred = kmeans.predict(x_test)\n"
   ]
  },
  {
   "cell_type": "code",
   "execution_count": 33,
   "metadata": {},
   "outputs": [
    {
     "data": {
      "image/png": "[encoded data removed]",
      "text/plain": [
       "<matplotlib.figure.Figure at 0x1b8dcc2c4e0>"
      ]
     },
     "metadata": {},
     "output_type": "display_data"
    },
    {
     "data": {
      "image/png": "[encoded data removed]",
      "text/plain": [
       "<matplotlib.figure.Figure at 0x1b8dcfa1cf8>"
      ]
     },
     "metadata": {},
     "output_type": "display_data"
    },
    {
     "data": {
      "image/png": "[encoded data removed]",
      "text/plain": [
       "<matplotlib.figure.Figure at 0x1b8dcbb4438>"
      ]
     },
     "metadata": {},
     "output_type": "display_data"
    },
    {
     "data": {
      "image/png": "[encoded data removed]",
      "text/plain": [
       "<matplotlib.figure.Figure at 0x1b8dd126ba8>"
      ]
     },
     "metadata": {},
     "output_type": "display_data"
    },
    {
     "data": {
      "image/png": "[encoded data removed]",
      "text/plain": [
       "<matplotlib.figure.Figure at 0x1b8dc527fd0>"
      ]
     },
     "metadata": {},
     "output_type": "display_data"
    },
    {
     "data": {
      "image/png": "[encoded data removed]",
      "text/plain": [
       "<matplotlib.figure.Figure at 0x1b8dc07b6d8>"
      ]
     },
     "metadata": {},
     "output_type": "display_data"
    },
    {
     "data": {
      "image/png": "[encoded data removed]",
      "text/plain": [
       "<matplotlib.figure.Figure at 0x1b8dca3edd8>"
      ]
     },
     "metadata": {},
     "output_type": "display_data"
    },
    {
     "data": {
      "image/png": "[encoded data removed]",
      "text/plain": [
       "<matplotlib.figure.Figure at 0x1b8de4699e8>"
      ]
     },
     "metadata": {},
     "output_type": "display_data"
    },
    {
     "data": {
      "text/plain": [
       "<matplotlib.figure.Figure at 0x1b8de690d30>"
      ]
     },
     "metadata": {},
     "output_type": "display_data"
    },
    {
     "data": {
      "image/png": "[encoded data removed]",
      "text/plain": [
       "<matplotlib.figure.Figure at 0x1b8de654c18>"
      ]
     },
     "metadata": {},
     "output_type": "display_data"
    }
   ],
   "source": [
    "# 予測した図を表示する\n",
    "def print_cluster(images, y_pred, cluster_number):\n",
    "    images = images[y_pred==cluster_number]\n",
    "    y_pred = y_pred[y_pred==cluster_number]\n",
    "    print_digits(images, y_pred, max_n=10)\n",
    "\n",
    "for i in range(10):\n",
    "    print_cluster(images_test, y_pred, i)"
   ]
  },
  {
   "cell_type": "code",
   "execution_count": 34,
   "metadata": {},
   "outputs": [
    {
     "data": {
      "image/png": "[encoded data removed]",
      "text/plain": [
       "<matplotlib.figure.Figure at 0x1b8de9cbef0>"
      ]
     },
     "metadata": {},
     "output_type": "display_data"
    },
    {
     "data": {
      "image/png": "[encoded data removed]",
      "text/plain": [
       "<matplotlib.figure.Figure at 0x1b8deb91860>"
      ]
     },
     "metadata": {},
     "output_type": "display_data"
    },
    {
     "data": {
      "image/png": "[encoded data removed]",
      "text/plain": [
       "<matplotlib.figure.Figure at 0x1b8deb91898>"
      ]
     },
     "metadata": {},
     "output_type": "display_data"
    },
    {
     "data": {
      "image/png": "[encoded data removed]",
      "text/plain": [
       "<matplotlib.figure.Figure at 0x1b8e00d8a90>"
      ]
     },
     "metadata": {},
     "output_type": "display_data"
    },
    {
     "data": {
      "image/png": "[encoded data removed]",
      "text/plain": [
       "<matplotlib.figure.Figure at 0x1b8e031c080>"
      ]
     },
     "metadata": {},
     "output_type": "display_data"
    },
    {
     "data": {
      "image/png": "[encoded data removed]",
      "text/plain": [
       "<matplotlib.figure.Figure at 0x1b8dc8da0f0>"
      ]
     },
     "metadata": {},
     "output_type": "display_data"
    },
    {
     "data": {
      "image/png": "[encoded data removed]",
      "text/plain": [
       "<matplotlib.figure.Figure at 0x1b8e041bd68>"
      ]
     },
     "metadata": {},
     "output_type": "display_data"
    },
    {
     "data": {
      "image/png": "[encoded data removed]",
      "text/plain": [
       "<matplotlib.figure.Figure at 0x1b8dca0ad68>"
      ]
     },
     "metadata": {},
     "output_type": "display_data"
    },
    {
     "data": {
      "image/png": "[encoded data removed]",
      "text/plain": [
       "<matplotlib.figure.Figure at 0x1b8dc769e48>"
      ]
     },
     "metadata": {},
     "output_type": "display_data"
    },
    {
     "data": {
      "image/png": "[encoded data removed]",
      "text/plain": [
       "<matplotlib.figure.Figure at 0x1b8de8cbe10>"
      ]
     },
     "metadata": {},
     "output_type": "display_data"
    },
    {
     "data": {
      "image/png": "[encoded data removed]",
      "text/plain": [
       "<matplotlib.figure.Figure at 0x1b8dc3df0f0>"
      ]
     },
     "metadata": {},
     "output_type": "display_data"
    },
    {
     "data": {
      "text/plain": [
       "<matplotlib.figure.Figure at 0x1b8dc0c2c18>"
      ]
     },
     "metadata": {},
     "output_type": "display_data"
    }
   ],
   "source": [
    "# 演習問題回答\n",
    "import numpy as np\n",
    "import matplotlib.pyplot as plt\n",
    "\n",
    "from sklearn.datasets import load_digits\n",
    "from sklearn.preprocessing import scale\n",
    "\n",
    "digits = load_digits()\n",
    "data = scale(digits.data)\n",
    "\n",
    "def print_digits(images, y, max_n=10):\n",
    "    fig = plt.figure(figsize = (12,12))\n",
    "    fig.subplots_adjust(left=0,right=1,bottom=0,top=1,hspace=0.05,wspace=0.05)\n",
    "\n",
    "    i=0\n",
    "    while i < max_n and i < images.shape[0]:\n",
    "        p=fig.add_subplot(20,20,i+1,xticks=[],yticks=[])\n",
    "        p.imshow(images[i], cmap=plt.cm.bone)\n",
    "        p.text(0,14,str(y[i]))\n",
    "        i=i+1\n",
    "\n",
    "print_digits(digits.images, digits.target, max_n=10)\n",
    "\n",
    "\n",
    "\n",
    "from sklearn.cross_validation import train_test_split\n",
    "x_train, x_test, y_train, y_test, images_train, images_test = train_test_split(\n",
    "        data, digits.target,digits.images,test_size=0.25,random_state=42)\n",
    "\n",
    "n_samples, n_features = x_train.shape\n",
    "n_digits=len(np.unique(y_train))\n",
    "labels = y_train\n",
    "\n",
    "\n",
    "from sklearn import cluster\n",
    "clf = cluster.KMeans(n_clusters=10)\n",
    "clf.fit(x_train)\n",
    "\n",
    "print_digits(images_train, clf.labels_,max_n=10)\n",
    "\n",
    "y_pred = clf.predict(x_test)\n",
    "\n",
    "\n",
    "def print_cluster(images, y_pred, cluster_number):\n",
    "    images = images[y_pred==cluster_number]\n",
    "    y_pred = y_pred[y_pred==cluster_number]\n",
    "    print_digits(images,y_pred,max_n=10)\n",
    "\n",
    "\n",
    "for i in range(10):\n",
    "    print_cluster(images_test,y_pred,i)  "
   ]
  },
  {
   "cell_type": "code",
   "execution_count": null,
   "metadata": {
    "collapsed": true
   },
   "outputs": [],
   "source": []
  }
 ],
 "metadata": {
  "kernelspec": {
   "display_name": "Python 3",
   "language": "python",
   "name": "python3"
  },
  "language_info": {
   "codemirror_mode": {
    "name": "ipython",
    "version": 3
   },
   "file_extension": ".py",
   "mimetype": "text/x-python",
   "name": "python",
   "nbconvert_exporter": "python",
   "pygments_lexer": "ipython3",
   "version": "3.6.3"
  }
 },
 "nbformat": 4,
 "nbformat_minor": 2
}
