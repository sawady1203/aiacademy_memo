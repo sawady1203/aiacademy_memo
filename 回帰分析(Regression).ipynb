{
 "cells": [
  {
   "cell_type": "markdown",
   "metadata": {},
   "source": [
    "<h3>回帰分析とは</h3>\n",
    "回帰分析とは、データ間の関係性を一定の数式・公式でどれくらい説明できるかを調べる分析手法です。\n",
    "\n",
    "ここで、出てくる用語として、目的変数と説明変数があります。\n",
    "\n",
    "目的変数はゴールとなる予測したいデータのことです。\n",
    "\n",
    "説明変数は予測したいデータの要因となるデータのことです。\n",
    "\n",
    "実際に計算式としては、単回帰式をy=ax+bのように表すことが出来て、yが目的変数、xが説明変数となります。\n",
    "\n",
    "ちなみに、aは回帰係数と呼ばれるものです。"
   ]
  },
  {
   "cell_type": "markdown",
   "metadata": {},
   "source": [
    "<h3>単回帰と重回帰の違い</h3>\n",
    "単回帰分析(線形)は、1つの数値からゴールとなる1つの数値を説明する分析です。\n",
    "例えば、テレビCMから獲得契約件など、1つの数値からゴールとなる1つの数値を説明するのが、単回帰分析です。\n",
    "そして、重回帰分析は、テレビCMや販促物、雑誌など複数の数値からゴールとなる1つの数値(獲得契約件)\n",
    "を説明するのが重回帰分析になります。\n",
    "重回帰分析は様々なデータ分析で使うことが出来ます。"
   ]
  },
  {
   "cell_type": "markdown",
   "metadata": {},
   "source": [
    "<h3>単回帰</h3>\n",
    "単回帰とは、\n",
    "・教師あり学習の一種で\n",
    "・目的変数が実数値\n",
    "の手法です。\n",
    "ピザの例で考えてみましょう。\n",
    "\n",
    "もし、あなたが「ピザの直径」から「ピザの値段」を予測したいとき\n",
    "\n",
    "予測に使うもの（ピザの直径）を説明変数\n",
    "\n",
    "予測するもの（ピザの値段）を目的変数といいます。\n",
    "\n",
    "用語の復習ですが、目的変数はゴールとなる予測したいデータのことで、\n",
    "\n",
    "説明変数は予測したいデータの要因となるデータのことでした。\n",
    "\n",
    "ピザの値段のように予測したいもの、すなわち目的変数が100,200などの実数値\n",
    "\n",
    "の学習を回帰と呼びます。\n",
    "\n",
    "簡単な回帰をピザの例を使って実装してみる。"
   ]
  },
  {
   "cell_type": "code",
   "execution_count": 2,
   "metadata": {
    "collapsed": true
   },
   "outputs": [],
   "source": [
    "#直径\n",
    "x = [[12],[16],[20],[28],[36]]\n",
    "#値段\n",
    "y = [[700],[900],[1300],[1750],[1800]]"
   ]
  },
  {
   "cell_type": "markdown",
   "metadata": {},
   "source": [
    "このデータがどのようになっているのか、回帰をする必要があるのかなど\n",
    "可視化してみる"
   ]
  },
  {
   "cell_type": "code",
   "execution_count": 3,
   "metadata": {},
   "outputs": [
    {
     "data": {
      "image/png": "[encoded data removed]",
      "text/plain": [
       "<matplotlib.figure.Figure at 0x257bfbf86d8>"
      ]
     },
     "metadata": {},
     "output_type": "display_data"
    }
   ],
   "source": [
    "import matplotlib.pyplot as plt\n",
    "#plt.figure()\n",
    "plt.title('Relation between diameter and price')\n",
    "plt.xlabel('diameter')\n",
    "plt.ylabel('price')\n",
    "plt.scatter(x, y)\n",
    "plt.axis([0, 50, 0, 2500])\n",
    "plt.grid(True)\n",
    "plt.show()"
   ]
  },
  {
   "cell_type": "markdown",
   "metadata": {},
   "source": [
    "この図をみると直径と値段には正の相関があるようにみえます。\n",
    "\n",
    "このように、データをplotすることで回帰を行う必要があるか分かります。\n",
    "\n",
    "では、次にscikit-learnを使って回帰を行なってみましょう。\n",
    "\n",
    "\n",
    "まず、はじめにモデルを構築します。"
   ]
  },
  {
   "cell_type": "code",
   "execution_count": 4,
   "metadata": {},
   "outputs": [
    {
     "data": {
      "text/plain": [
       "LinearRegression(copy_X=True, fit_intercept=True, n_jobs=1, normalize=False)"
      ]
     },
     "execution_count": 4,
     "metadata": {},
     "output_type": "execute_result"
    }
   ],
   "source": [
    "from sklearn.linear_model import LinearRegression\n",
    "model = LinearRegression()\n",
    "model.fit(x, y)"
   ]
  },
  {
   "cell_type": "code",
   "execution_count": 5,
   "metadata": {},
   "outputs": [
    {
     "name": "stdout",
     "output_type": "stream",
     "text": [
      "直径25センチの場合は:$1416.91810345\n"
     ]
    }
   ],
   "source": [
    "#大きさが25のピザの値段を予測する\n",
    "price = model.predict(25)\n",
    "print(\"直径25センチの場合は:$%s\"%price[0][0])"
   ]
  },
  {
   "cell_type": "markdown",
   "metadata": {},
   "source": [
    "predictを使うことによって値段を予測できます。\n",
    "\n",
    "上のプログラムを実行すると\n",
    "\n",
    "25 inches pizza should cost: 1416.91810345円\n",
    "\n",
    "と表示され予測できていることが分かります。 このように機械学習で予測をす\n",
    "るには\n",
    "\n",
    "<h4> 1.モデルの指定</h4>\n",
    "model = LinearRegression()\n",
    "\n",
    "<h4>2.学習</h4>\n",
    "model.fit(x,y)\n",
    "\n",
    "<h4>3.予測</h4>\n",
    "price = model.predict(25)\n",
    "\n",
    "によって行えます。\n",
    "この手順は回帰以外のどの機械学習手法でも変わりません。"
   ]
  },
  {
   "cell_type": "markdown",
   "metadata": {},
   "source": [
    "<h2>評価方法 決定係数(寄与率)</h2>\n",
    "\n",
    "では、これは良い学習ができているのでしょうか？\n",
    "\n",
    "良い学習ができているか確認するためには、評価が必要です。\n",
    "\n",
    "回帰の評価方法として決定係数(または寄与率とも呼びます/r-squared)というものがあります。\n",
    "\n",
    "決定係数(寄与率)とは、説明変数が目的変数をどのくらい説明できるかを表す値で高ければ高いほど良いとされます。\n",
    "\n",
    "決定係数(寄与率)はscoreによって出力されます。\n",
    "\n",
    "新たにテストデータを作成して、寄与率を計算してみましょう。"
   ]
  },
  {
   "cell_type": "code",
   "execution_count": 6,
   "metadata": {},
   "outputs": [
    {
     "name": "stdout",
     "output_type": "stream",
     "text": [
      "r-squared: 0.662005292942\n"
     ]
    }
   ],
   "source": [
    "#テストデータの作成\n",
    "x_test = [[16],[18],[22],[32],[24]]\n",
    "y_test = [[1100], [850], [1500], [1800], [1100]]\n",
    "\n",
    "score = model.score(x_test, y_test)\n",
    "print(\"r-squared:\", score)"
   ]
  },
  {
   "cell_type": "markdown",
   "metadata": {},
   "source": [
    "model.scoreによってそのモデルの寄与率を計算できます。\n",
    "\n",
    "上記のプログラムを実行すると、\n",
    "\n",
    "r-squared: 0.662005292942\n",
    "と出力されています。\n",
    "\n",
    "寄与率が0.66と高くはないですが、ある程度のモデルが作れているといえます。"
   ]
  },
  {
   "cell_type": "markdown",
   "metadata": {},
   "source": [
    "<h2>重回帰</h2>\n",
    "\n",
    "先程の単回帰より、良いモデルを作るにはどうしたら良いでしょうか？\n",
    "\n",
    "ピザの例で考えると、\n",
    "ピザの値段を決めているのは大きさだけではありません。\n",
    "\n",
    "トッピングの数、パンの生地、種類など様々な要因が値段を決めています。\n",
    "\n",
    "なので、値段に関わる要因を説明変数と増やせば増やすほど、値段を正確に予測することができます。\n",
    "\n",
    "このように、説明変数を2つ以上で行う回帰のことを重回帰といいます。\n",
    "（先程は説明変数が1つだったので単回帰といいます。）\n",
    "\n",
    "実際に計算としては、\n",
    "\n",
    "重回帰式をY=b1X1+b2X2+b3X3+b4X4+b5X5+‥‥+b0\n",
    "のように表すことができ、b1,b2,‥を偏回帰係数といいます。"
   ]
  },
  {
   "cell_type": "markdown",
   "metadata": {},
   "source": [
    "<h3>重回帰の実装例</h3>\n",
    "では、重回帰を実装してみましょう。\n",
    "先程のデータにトッピングの数を追加します。 \n",
    "テストデータの方にも追加し、学習してみましょう。\n"
   ]
  },
  {
   "cell_type": "code",
   "execution_count": 7,
   "metadata": {},
   "outputs": [
    {
     "name": "stdout",
     "output_type": "stream",
     "text": [
      "Predicted:[ 1006.25], Target:[1100]\n",
      "Predicted:[ 1028.125], Target:[850]\n",
      "Predicted:[ 1309.375], Target:[1500]\n",
      "Predicted:[ 1814.58333333], Target:[1800]\n",
      "Predicted:[ 1331.25], Target:[1100]\n",
      "r-squared 0.770167773132\n"
     ]
    }
   ],
   "source": [
    "from sklearn.linear_model import LinearRegression\n",
    "x = [[12,2],[16,1],[20,0],[28,2],[36,0]]\n",
    "y = [[700],[900],[1300],[1750],[1800]]\n",
    "\n",
    "model = LinearRegression()\n",
    "model.fit(x, y)\n",
    "\n",
    "x_test = [[16,2],[18,0],[22,2],[32,2],[24,0]]\n",
    "y_test = [[1100],[850],[1500],[1800],[1100]]\n",
    "\n",
    "prices = model.predict(x_test)\n",
    "for i, price in enumerate(prices):\n",
    "    print('Predicted:%s, Target:%s'%(price, y_test[i]))\n",
    "    \n",
    "score = model.score(x_test, y_test)\n",
    "print(\"r-squared\", score)"
   ]
  },
  {
   "cell_type": "code",
   "execution_count": 8,
   "metadata": {},
   "outputs": [
    {
     "data": {
      "image/png": "[encoded data removed]",
      "text/plain": [
       "<matplotlib.figure.Figure at 0x257c1e77278>"
      ]
     },
     "metadata": {},
     "output_type": "display_data"
    },
    {
     "name": "stdout",
     "output_type": "stream",
     "text": [
      "25 inches pizza should cost: 1416.91810345円\n",
      "r-squared: 0.662005292942\n",
      "Predicted:[ 1006.25], Target:[1100]\n",
      "Predicted:[ 1028.125], Target:[850]\n",
      "Predicted:[ 1309.375], Target:[1500]\n",
      "Predicted:[ 1814.58333333], Target:[1800]\n",
      "Predicted:[ 1331.25], Target:[1100]\n",
      "r-squared: 0.770167773132\n"
     ]
    }
   ],
   "source": [
    "# 学習データ\n",
    "x = [[12],[16],[20],[28],[36]]\n",
    "y = [[700],[900],[1300],[1750],[1800]]\n",
    "\n",
    "\n",
    "import matplotlib.pyplot as plt \n",
    "plt.figure()\n",
    "plt.title('Relation between diameter and price') #タイトル\n",
    "plt.xlabel('diameter') #軸ラベル \n",
    "plt.ylabel('price') #軸ラベル\n",
    "plt.scatter(x,y) #散布図の作成\n",
    "plt.axis([0, 50, 0, 2500]) #表の最小値、最大値\n",
    "plt.grid(True) #grid線\n",
    "plt.show()\n",
    "\n",
    "\n",
    "from sklearn.linear_model import LinearRegression\n",
    "model = LinearRegression()\n",
    "model.fit(x,y)\n",
    "\n",
    "price = model.predict(25)\n",
    "print('25 inches pizza should cost: %s円'%price[0][0])\n",
    "\n",
    "\n",
    "x_test = [[16],[18],[22],[32],[24]]\n",
    "y_test = [[1100],[850],[1500],[1800],[1100]]\n",
    "\n",
    "score = model.score(x_test,y_test)\n",
    "print(\"r-squared:\",score)\n",
    "\n",
    "\n",
    "\n",
    "from sklearn.linear_model import LinearRegression\n",
    "x = [[12,2],[16,1],[20,0],[28,2],[36,0]]\n",
    "y = [[700],[900],[1300],[1750],[1800]]\n",
    "\n",
    "model = LinearRegression()\n",
    "model.fit(x,y)\n",
    "\n",
    "x_test = [[16,2],[18,0],[22,2],[32,2],[24,0]]\n",
    "y_test = [[1100],[850],[1500],[1800],[1100]]\n",
    "\n",
    "prices = model.predict(x_test)\n",
    "for i, price in enumerate(prices):\n",
    "    print('Predicted:%s, Target:%s'%(price,y_test[i]))\n",
    "\n",
    "score = model.score(x_test,y_test)\n",
    "print(\"r-squared:\",score)\n"
   ]
  },
  {
   "cell_type": "markdown",
   "metadata": {},
   "source": [
    "<h3>単回帰と多項式回帰の違い</h3>\n",
    "\n",
    "単回帰分析では、良い具合にデータの分布に沿った\n",
    "一次関数の直線を引くことが出来ましたが、\n",
    "一般的にそういったケースは稀です。\n",
    "\n",
    "例えば以下のようなデータの分布があるとします。\n",
    "\n",
    "ちなみに今回のデータはcos関数の分布に従います。"
   ]
  },
  {
   "cell_type": "code",
   "execution_count": 9,
   "metadata": {},
   "outputs": [
    {
     "data": {
      "image/png": "[encoded data removed]",
      "text/plain": [
       "<matplotlib.figure.Figure at 0x257c0be5a90>"
      ]
     },
     "metadata": {},
     "output_type": "display_data"
    }
   ],
   "source": [
    "import numpy as np\n",
    "import matplotlib.pyplot as plt\n",
    "\n",
    "x = np.arange(-2, 6, 1)\n",
    "y = np.cos(x)\n",
    "\n",
    "plt.scatter(x, y)\n",
    "plt.grid(True)\n",
    "plt.show()"
   ]
  },
  {
   "cell_type": "markdown",
   "metadata": {},
   "source": [
    "<h2>多項式回帰</h2>\n",
    "\n",
    "一次関数で直線的な関係がyとxに見られない時は多項式回帰が有効に使えます。\n",
    "\n",
    "多項式回帰では、二次関数や三次関数のような次数の高い曲線的な分布のデータの予測を行うことが出来ます。\n",
    "実装はscikit-learnは使わず、numpyだけで行います。\n",
    "\n",
    "まずはnumpyをインポートして、データをnd.arrayで読み込みましょう。"
   ]
  },
  {
   "cell_type": "code",
   "execution_count": 10,
   "metadata": {
    "collapsed": true
   },
   "outputs": [],
   "source": [
    "import numpy as np\n",
    "import matplotlib.pyplot as plt\n",
    "\n",
    "x = np.array([-1.2, -0.6, 0.0, 0.6, 1.2, 1.8, 2.4, 3.0, 3.6, 4.2])\n",
    "y = np.array([0.36, 0.83, 1.0, 0.8, 0.4, -0.2, -0.7, -1.0, -0.89, -0.49])"
   ]
  },
  {
   "cell_type": "markdown",
   "metadata": {},
   "source": [
    "numpyでの多項式回帰では、polyfit()関数と、poly1d()関数を用います。\n",
    "\n",
    "polyfit()関数では、最大次元数を指定して、多項式回帰式を求める事が出来ます。\n",
    "\n",
    "出力は各変数につく係数となります。poly1d()関数では、実際に回帰式が出力されます。\n",
    "\n",
    "実際に出力を確認しましょう。"
   ]
  },
  {
   "cell_type": "code",
   "execution_count": 11,
   "metadata": {},
   "outputs": [
    {
     "name": "stdout",
     "output_type": "stream",
     "text": [
      "[ 0.10079427 -0.47461797 -0.13951049  1.01047552]\n",
      "        3          2\n",
      "0.1008 x - 0.4746 x - 0.1395 x + 1.01\n"
     ]
    }
   ],
   "source": [
    "#３次元まで考えた場合\n",
    "z = np.polyfit(x, y, 3)\n",
    "print(z)\n",
    "p = np.poly1d(z)\n",
    "print(p)"
   ]
  },
  {
   "cell_type": "code",
   "execution_count": 12,
   "metadata": {},
   "outputs": [
    {
     "name": "stderr",
     "output_type": "stream",
     "text": [
      "C:\\Users\\masayoshi\\Anaconda3\\lib\\site-packages\\ipykernel_launcher.py:1: RankWarning: Polyfit may be poorly conditioned\n",
      "  \"\"\"Entry point for launching an IPython kernel.\n"
     ]
    }
   ],
   "source": [
    "z30 = np.polyfit(x, y, 30)\n",
    "p30 = np.poly1d(z30)"
   ]
  },
  {
   "cell_type": "markdown",
   "metadata": {},
   "source": [
    "今回はy=cos(x)の関係が正解データなので、作成した2つの多項式回帰の式とそれらを比較します。"
   ]
  },
  {
   "cell_type": "code",
   "execution_count": 13,
   "metadata": {},
   "outputs": [
    {
     "data": {
      "image/png": "[encoded data removed]",
      "text/plain": [
       "<matplotlib.figure.Figure at 0x257c1e8dd30>"
      ]
     },
     "metadata": {},
     "output_type": "display_data"
    }
   ],
   "source": [
    "#２から５まで等間隔に１００等分した値を配列に格納\n",
    "xp = np.linspace(-2, 5, 100)\n",
    "\n",
    "#プロットする\n",
    "#テストデータは緑の線、ｐは青の線、p３０は＊で記す\n",
    "plt.plot(xp, np.cos(xp), '.', xp, p(xp), '-', xp, p30(xp), '*')\n",
    "plt.ylim(-3, 3)\n",
    "plt.grid(True)\n",
    "plt.show()\n",
    "plt.savefig('image.png')\n"
   ]
  },
  {
   "cell_type": "markdown",
   "metadata": {},
   "source": [
    "実行すると以下のような出力が得られます。\n",
    "最大次元数が30の*の点でプロットされたモデルは、x>3でyの値が急降下しています。\n",
    "\n",
    "これは、いわゆる過学習というものです。\n",
    "\n",
    "トレーニングデータとの精度をあげることに専念したため、テストデータとは似つか\n",
    "ないモデルが出来たのです。\n",
    "\n",
    "多項式回帰において、何次元を最大次元数とするかの問題は常に重要です。"
   ]
  },
  {
   "cell_type": "markdown",
   "metadata": {},
   "source": [
    "<h1>まとめ</h1>\n",
    "この章では回帰について学習しました。\n",
    "説明変数が１つのときは単回帰、複数のときは重回帰と呼ばれます。\n",
    "また、評価指標として寄与率を説明しました。"
   ]
  },
  {
   "cell_type": "markdown",
   "metadata": {},
   "source": [
    "<h1>演習問題</h1>\n",
    "1. ボストンの犯罪率や人口密度などの説明変数を使って、\n",
    "ボストンにある家の価格を予測するモデルを作ってください。\n",
    "また、そのときの寄与率を出力してください。\n",
    "boston.feature_namesによって、説明変数が確認できます。"
   ]
  },
  {
   "cell_type": "code",
   "execution_count": 15,
   "metadata": {},
   "outputs": [
    {
     "name": "stdout",
     "output_type": "stream",
     "text": [
      "['CRIM' 'ZN' 'INDUS' 'CHAS' 'NOX' 'RM' 'AGE' 'DIS' 'RAD' 'TAX' 'PTRATIO'\n",
      " 'B' 'LSTAT']\n"
     ]
    }
   ],
   "source": [
    "#データのダウンロード方法\n",
    "from sklearn.datasets import load_boston\n",
    "boston = load_boston()\n",
    "\n",
    "x = boston.data\n",
    "y = boston.target\n",
    "\n",
    "print(boston.feature_names)"
   ]
  },
  {
   "cell_type": "code",
   "execution_count": 16,
   "metadata": {},
   "outputs": [
    {
     "data": {
      "text/plain": [
       "array([[  6.32000000e-03,   1.80000000e+01,   2.31000000e+00, ...,\n",
       "          1.53000000e+01,   3.96900000e+02,   4.98000000e+00],\n",
       "       [  2.73100000e-02,   0.00000000e+00,   7.07000000e+00, ...,\n",
       "          1.78000000e+01,   3.96900000e+02,   9.14000000e+00],\n",
       "       [  2.72900000e-02,   0.00000000e+00,   7.07000000e+00, ...,\n",
       "          1.78000000e+01,   3.92830000e+02,   4.03000000e+00],\n",
       "       ..., \n",
       "       [  6.07600000e-02,   0.00000000e+00,   1.19300000e+01, ...,\n",
       "          2.10000000e+01,   3.96900000e+02,   5.64000000e+00],\n",
       "       [  1.09590000e-01,   0.00000000e+00,   1.19300000e+01, ...,\n",
       "          2.10000000e+01,   3.93450000e+02,   6.48000000e+00],\n",
       "       [  4.74100000e-02,   0.00000000e+00,   1.19300000e+01, ...,\n",
       "          2.10000000e+01,   3.96900000e+02,   7.88000000e+00]])"
      ]
     },
     "metadata": {},
     "output_type": "display_data"
    }
   ],
   "source": [
    "display(boston.data)"
   ]
  },
  {
   "cell_type": "code",
   "execution_count": 19,
   "metadata": {},
   "outputs": [
    {
     "name": "stdout",
     "output_type": "stream",
     "text": [
      "(506, 13)\n"
     ]
    }
   ],
   "source": [
    "print(boston.data.shape)"
   ]
  },
  {
   "cell_type": "code",
   "execution_count": 27,
   "metadata": {},
   "outputs": [
    {
     "data": {
      "text/plain": [
       "(506,)"
      ]
     },
     "metadata": {},
     "output_type": "display_data"
    }
   ],
   "source": [
    "display(boston.target.shape)"
   ]
  },
  {
   "cell_type": "code",
   "execution_count": 35,
   "metadata": {},
   "outputs": [
    {
     "name": "stdout",
     "output_type": "stream",
     "text": [
      "379\n",
      "127\n",
      "127\n"
     ]
    }
   ],
   "source": [
    "#重回帰によって予測してみる\n",
    "from sklearn.linear_model import LinearRegression\n",
    "from sklearn.model_selection import train_test_split\n",
    "\n",
    "x_train, x_test, y_train, y_test = train_test_split(boston.data,boston.target)\n",
    "print(len(x_train))\n",
    "print(len(x_test))\n",
    "print(len(y_test))"
   ]
  },
  {
   "cell_type": "code",
   "execution_count": 36,
   "metadata": {},
   "outputs": [
    {
     "name": "stdout",
     "output_type": "stream",
     "text": [
      "Predicted:28.9985397657, Target:25.0\n",
      "Predicted:31.3149372045, Target:31.5\n",
      "Predicted:21.8151180194, Target:18.7\n",
      "Predicted:21.3729058294, Target:19.3\n",
      "Predicted:27.305463377, Target:22.1\n",
      "Predicted:12.3125843711, Target:15.2\n",
      "Predicted:23.7648757766, Target:19.6\n",
      "Predicted:15.8935562753, Target:13.1\n",
      "Predicted:20.2525187257, Target:19.2\n",
      "Predicted:26.0323623538, Target:25.0\n",
      "Predicted:27.9115516109, Target:23.9\n",
      "Predicted:27.5764461063, Target:22.3\n",
      "Predicted:29.2205990771, Target:22.8\n",
      "Predicted:24.9175310682, Target:24.8\n",
      "Predicted:22.7587972824, Target:21.4\n",
      "Predicted:20.9166868054, Target:21.7\n",
      "Predicted:32.5551309607, Target:30.3\n",
      "Predicted:30.4373044039, Target:25.1\n",
      "Predicted:18.0836406911, Target:19.9\n",
      "Predicted:8.51338118414, Target:5.0\n",
      "Predicted:22.7273656757, Target:20.3\n",
      "Predicted:40.4791568523, Target:50.0\n",
      "Predicted:17.3116262685, Target:19.1\n",
      "Predicted:24.4153431274, Target:19.2\n",
      "Predicted:29.7063988997, Target:24.1\n",
      "Predicted:19.5503444891, Target:12.5\n",
      "Predicted:30.6299331696, Target:37.0\n",
      "Predicted:25.2787094918, Target:21.4\n",
      "Predicted:18.6499049301, Target:14.1\n",
      "Predicted:16.7449433926, Target:17.5\n",
      "Predicted:15.0093755038, Target:11.7\n",
      "Predicted:20.3632697614, Target:23.0\n",
      "Predicted:27.5538097012, Target:22.6\n",
      "Predicted:34.0147046202, Target:32.0\n",
      "Predicted:18.6505474438, Target:14.5\n",
      "Predicted:24.0158107343, Target:24.4\n",
      "Predicted:12.1540057773, Target:15.6\n",
      "Predicted:40.5647786974, Target:50.0\n",
      "Predicted:19.6880564533, Target:19.6\n",
      "Predicted:15.4490408041, Target:18.9\n",
      "Predicted:20.7174579118, Target:15.3\n",
      "Predicted:34.7426232559, Target:43.8\n",
      "Predicted:19.5065945478, Target:18.3\n",
      "Predicted:24.2006304804, Target:20.3\n",
      "Predicted:12.9503722927, Target:10.5\n",
      "Predicted:12.7707729952, Target:11.8\n",
      "Predicted:22.2503245497, Target:16.5\n",
      "Predicted:14.3902016268, Target:14.3\n",
      "Predicted:35.310859864, Target:50.0\n",
      "Predicted:12.18717403, Target:12.0\n",
      "Predicted:24.2151396479, Target:22.6\n",
      "Predicted:23.1281862048, Target:21.2\n",
      "Predicted:33.5482011325, Target:31.7\n",
      "Predicted:23.1686886755, Target:19.8\n",
      "Predicted:27.581839786, Target:26.6\n",
      "Predicted:20.2718101166, Target:13.3\n",
      "Predicted:16.5639004439, Target:20.6\n",
      "Predicted:30.441087184, Target:29.1\n",
      "Predicted:44.1432235171, Target:50.0\n",
      "Predicted:18.407138532, Target:16.6\n",
      "Predicted:33.4301079134, Target:28.5\n",
      "Predicted:24.5326867091, Target:22.8\n",
      "Predicted:31.3148888038, Target:30.7\n",
      "Predicted:27.1379238884, Target:25.2\n",
      "Predicted:26.0011838123, Target:23.2\n",
      "Predicted:16.3960258584, Target:13.3\n",
      "Predicted:19.5566350617, Target:15.2\n",
      "Predicted:39.3826738243, Target:43.5\n",
      "Predicted:16.565487333, Target:17.8\n",
      "Predicted:17.9142988274, Target:15.1\n",
      "Predicted:22.1797738177, Target:22.2\n",
      "Predicted:13.4431031437, Target:12.8\n",
      "Predicted:24.3945608625, Target:24.7\n",
      "Predicted:23.5932366682, Target:20.8\n",
      "Predicted:23.7782028003, Target:26.2\n",
      "Predicted:18.4843825341, Target:12.6\n",
      "Predicted:25.9701349864, Target:20.7\n",
      "Predicted:17.6038266369, Target:19.4\n",
      "Predicted:17.9055338652, Target:14.9\n",
      "Predicted:19.7384523197, Target:15.6\n",
      "Predicted:25.3860660238, Target:15.0\n",
      "Predicted:14.4276558153, Target:9.6\n",
      "Predicted:18.162294705, Target:19.6\n",
      "Predicted:34.2359663819, Target:37.3\n",
      "Predicted:13.9564396189, Target:13.3\n",
      "Predicted:25.528244331, Target:21.6\n",
      "Predicted:35.4174621413, Target:33.2\n",
      "Predicted:22.0275689077, Target:22.0\n",
      "Predicted:16.2330248743, Target:11.7\n",
      "Predicted:38.2926563915, Target:44.8\n",
      "Predicted:25.9111177324, Target:19.4\n",
      "Predicted:26.1678891093, Target:21.6\n",
      "Predicted:14.6167209449, Target:19.0\n",
      "Predicted:28.8237794174, Target:42.8\n",
      "Predicted:32.7922883877, Target:31.6\n",
      "Predicted:14.7676141625, Target:13.1\n",
      "Predicted:23.393787527, Target:19.4\n",
      "Predicted:17.3218738557, Target:14.9\n",
      "Predicted:17.4146809189, Target:19.1\n",
      "Predicted:18.6285486195, Target:10.9\n",
      "Predicted:31.9446535248, Target:29.0\n",
      "Predicted:25.7976437234, Target:23.9\n",
      "Predicted:17.3368084755, Target:18.1\n",
      "Predicted:15.679750046, Target:14.1\n",
      "Predicted:4.29024431019, Target:8.4\n",
      "Predicted:21.756020805, Target:20.9\n",
      "Predicted:24.1963923099, Target:21.9\n",
      "Predicted:27.9286780106, Target:23.9\n",
      "Predicted:28.412745375, Target:23.7\n",
      "Predicted:22.6511687444, Target:22.6\n",
      "Predicted:22.9997317563, Target:24.7\n",
      "Predicted:15.0582317008, Target:14.9\n",
      "Predicted:21.7743452384, Target:20.6\n",
      "Predicted:32.2982517306, Target:33.2\n",
      "Predicted:29.8865018691, Target:24.6\n",
      "Predicted:20.6287099714, Target:24.5\n",
      "Predicted:19.899652626, Target:20.1\n",
      "Predicted:27.5722173343, Target:27.1\n",
      "Predicted:20.4919963696, Target:20.0\n",
      "Predicted:26.4007976207, Target:22.2\n",
      "Predicted:19.6675868869, Target:20.6\n",
      "Predicted:16.3061875269, Target:20.2\n",
      "Predicted:-4.12046957381, Target:7.0\n",
      "Predicted:19.296422426, Target:20.8\n",
      "Predicted:25.0109535008, Target:24.7\n",
      "Predicted:33.6760190053, Target:32.0\n",
      "Predicted:34.6879884901, Target:33.1\n",
      "r-squared: 0.770245650713\n"
     ]
    }
   ],
   "source": [
    "model = LinearRegression()\n",
    "model.fit(x_train, y_train)\n",
    "\n",
    "prices = model.predict(x_test)\n",
    "for i, price in enumerate(prices):\n",
    "    print('Predicted:%s, Target:%s'%(price, y_test[i]))\n",
    "\n",
    "score = model.score(x_test, y_test)\n",
    "print('r-squared:', score)"
   ]
  },
  {
   "cell_type": "code",
   "execution_count": null,
   "metadata": {
    "collapsed": true
   },
   "outputs": [],
   "source": []
  }
 ],
 "metadata": {
  "kernelspec": {
   "display_name": "Python 3",
   "language": "python",
   "name": "python3"
  },
  "language_info": {
   "codemirror_mode": {
    "name": "ipython",
    "version": 3
   },
   "file_extension": ".py",
   "mimetype": "text/x-python",
   "name": "python",
   "nbconvert_exporter": "python",
   "pygments_lexer": "ipython3",
   "version": "3.6.3"
  }
 },
 "nbformat": 4,
 "nbformat_minor": 2
}
